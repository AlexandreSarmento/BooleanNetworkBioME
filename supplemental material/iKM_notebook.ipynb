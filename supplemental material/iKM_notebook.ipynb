{
  "nbformat": 4,
  "nbformat_minor": 0,
  "metadata": {
    "colab": {
      "name": "iKM_notebook.ipynb",
      "provenance": [],
      "collapsed_sections": [],
      "include_colab_link": true
    },
    "kernelspec": {
      "name": "python3",
      "display_name": "Python 3"
    },
    "language_info": {
      "name": "python"
    }
  },
  "cells": [
    {
      "cell_type": "markdown",
      "metadata": {
        "id": "view-in-github",
        "colab_type": "text"
      },
      "source": [
        "<a href=\"https://colab.research.google.com/github/AlexandreSarmento/BooleanNetworkBioME/blob/master/supplemental%20material/iKM_notebook.ipynb\" target=\"_parent\"><img src=\"https://colab.research.google.com/assets/colab-badge.svg\" alt=\"Open In Colab\"/></a>"
      ]
    },
    {
      "cell_type": "code",
      "metadata": {
        "id": "vA_g0sxuJ2Tp"
      },
      "source": [
        "!pip3 install biopython"
      ],
      "execution_count": null,
      "outputs": []
    },
    {
      "cell_type": "code",
      "metadata": {
        "id": "v72R4i8ZtHmM"
      },
      "source": [
        "!pip install bitarray"
      ],
      "execution_count": null,
      "outputs": []
    },
    {
      "cell_type": "code",
      "metadata": {
        "id": "UE2HByhowuSE"
      },
      "source": [
        "import math, numpy, sys\n",
        "from bitarray import bitarray\n",
        "import csv, array\n",
        "from Bio import Cluster # importar Biopython\n",
        "import shutil"
      ],
      "execution_count": null,
      "outputs": []
    },
    {
      "cell_type": "code",
      "metadata": {
        "id": "mc81I3W7vS9B"
      },
      "source": [
        "!mkdir ode\n",
        "number_of_bin = 100\n",
        "KMX = 3\n",
        "inputFileName = '/content/filename_'\n",
        "outputFileName = '/content/foldername/filename_'\n",
        "originalSeries = {}    # original series stored here as a list\n",
        "binarySeries = {}    # structure same as the original but with binary series\n",
        "inputoutput = {} # keys are combinations, with a list of compbinations that are outputs of it "
      ],
      "execution_count": null,
      "outputs": []
    },
    {
      "cell_type": "code",
      "metadata": {
        "id": "g7cABJv8ueFL"
      },
      "source": [
        "# Função para binarizar os dados através do método de iterativ k-Means clustring\n",
        "'''\n",
        "orig: dict(), dicionários com valores de expressão gênica a serem binarizados.\n",
        "As chaves correspondem aos nomes dos genes e os valores é uma lista de valores\n",
        "de expressão de cada gene.\n",
        "clusters: int(), nível de profundidade de clusterização (2^n)\n",
        "reduction: int(), número de iterações?\n",
        "'''\n",
        "'''\n",
        "ASQ to MCCM: estive dando uma olhada mais aprofundada na variável reduction. No fim\n",
        "das contas deveríamos descatar, trata-se de um método de reduzir regras booleanas redundantes\n",
        "\n",
        "'''\n",
        "def decrementalKMeanBinarization(orig, clusters, reduction=0):    \n",
        "    clusterData = {}\n",
        "    clusterRes = {}\n",
        "    binSeries = {}\n",
        "    if clusters < 2:\n",
        "            return None\n",
        "    while clusters >= 2:\n",
        "            # 'NON' allows you to ignore specific species \n",
        "            for k,v in list(orig.items()):\n",
        "                    if k == \"NON\":\n",
        "                            continue\n",
        "                    data = []\n",
        "                    for i in range(len(v)):\n",
        "                            row = [i,v[i]]\n",
        "                            data.append(row)\n",
        "                    x = numpy.vstack(v)\n",
        "                    clusterData[k] = x\n",
        "                                        # Bio.Cluster.kcluster()\n",
        "                    idx, error, nfound = Cluster.kcluster(x, nclusters=clusters, method='a', dist='e')\n",
        "                    clusterRes[k] = (idx, error, nfound)\n",
        "\n",
        "            # replace the values with the averages of the clusters\n",
        "            for k,r in list(clusterRes.items()):\n",
        "                    colors = []\n",
        "                    idx, error, nfound = r\n",
        "                    y = clusterData[k]\n",
        "                    x = numpy.arange(len(y))\n",
        "                    sizes = {}\n",
        "                    sums = {}\n",
        "                    for i in range(clusters):\n",
        "                            sizes[i] = 0\n",
        "                            sums[i] = 0\n",
        "                    for i in range(len(idx)):\n",
        "                            sizes[idx[i]] += 1\n",
        "                            sums[idx[i]] += y[i]\n",
        "                    # culculate sums\n",
        "                    for i in list(sums.keys()):\n",
        "                            sums[i] /= sizes[i]\n",
        "                            \n",
        "                    # replace all the values with sums in the clusters\n",
        "                    averaged = []\n",
        "                    for i in idx:\n",
        "                            averaged.append(sums[i][0])\n",
        "                    orig[k] = averaged\n",
        "\n",
        "            clusters //= 2\n",
        "    # replace data with 0 and 1\n",
        "    for k,v in list(orig.items()):\n",
        "            if k == \"NON\":\n",
        "                    continue\n",
        "            mi = min(v)\n",
        "            binVals = bitarray()\n",
        "            for i in v:\n",
        "                    if i == mi:\n",
        "                            binVals.append(False)\n",
        "                    else:\n",
        "                            binVals.append(True)\n",
        "            binSeries[k] = binVals\n",
        "  \n",
        "    return binSeries"
      ],
      "execution_count": null,
      "outputs": []
    },
    {
      "cell_type": "code",
      "metadata": {
        "id": "MUEF56YIujo9"
      },
      "source": [
        "counter = 0\n",
        "while (counter < number_of_bin):\n",
        "    counter += 1\n",
        "    print((str(counter) + \" of \" + str(number_of_bin) + \"binarizations\"))\n",
        "    bMethod = KMX\n",
        "    #Reduction methods\n",
        "    reduction = 0\n",
        "    csvfile = open(inputFileName +'.csv', 'r') \n",
        "    r = csv.reader(csvfile)\n",
        "    \n",
        "    topLine = next(r)\n",
        "    order = []\n",
        "    # grabs each species, \n",
        "    for t in topLine:\n",
        "            # creates an empty list for each species\n",
        "            originalSeries[t] = []\n",
        "            order.append(t)\n",
        "    for line in r:\n",
        "            if line[0].startswith(\"#\"):\n",
        "                    continue\n",
        "            words = line\n",
        "            # fills the array for each species with the original data points\n",
        "            for i in range(len(words)):\n",
        "                    originalSeries[order[i]].append(float(words[i]))\n",
        "    allConvergence = []\n",
        "    allTimes = []\n",
        "    # determines cluster depth (d). Number of clusters, k = 2^d \n",
        "    if bMethod > 0:\n",
        "        clusters = int(math.pow(2,bMethod))\n",
        "        binarySeries = decrementalKMeanBinarization(dict(originalSeries), clusters, reduction)\n",
        "    for i in binarySeries:\n",
        "        sampleSize2= len(binarySeries[i])\n",
        "    # write binarized data to file\n",
        "    f = open(outputFileName + str(counter) + '.csv', \"wb\")\n",
        "    for item in binarySeries:\n",
        "        f.write(bytes(item,'utf-8'))\n",
        "        values = str(binarySeries[item])\n",
        "        values  = values.rstrip(')')\n",
        "        values = values.rsplit('bitarray(')\n",
        "        values = values[1]\n",
        "        values = values.lstrip('\\'')\n",
        "        values = values.rstrip('\\'')\n",
        "        valueList = list(values)\n",
        "        for sample in valueList:\n",
        "            f.write(bytes(\",\" + sample,'utf-8'))\n",
        "            #f.write(\",\" + str(sample))\n",
        "        f.write(bytes(\"\\n\",'utf-8'))\n",
        "\n",
        "    f.close() "
      ],
      "execution_count": null,
      "outputs": []
    },
    {
      "cell_type": "markdown",
      "metadata": {
        "id": "s_mfdDdle5xz"
      },
      "source": [
        "# transforme a pasta que guarda resultados em pasta zip"
      ]
    },
    {
      "cell_type": "code",
      "metadata": {
        "id": "XBnIGj6set0a"
      },
      "source": [
        "shutil.make_archive('/content/foldername', 'zip', '/content/foldername')"
      ],
      "execution_count": null,
      "outputs": []
    },
    {
      "cell_type": "code",
      "source": [
        "shutil.rmtree('/content/foldername')"
      ],
      "metadata": {
        "id": "AnSjKorL-Fm_"
      },
      "execution_count": null,
      "outputs": []
    },
    {
      "cell_type": "code",
      "metadata": {
        "id": "I6fd3bNiXWGu"
      },
      "source": [
        "%reset"
      ],
      "execution_count": null,
      "outputs": []
    }
  ]
}