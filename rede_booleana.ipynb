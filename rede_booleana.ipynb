{
  "nbformat": 4,
  "nbformat_minor": 0,
  "metadata": {
    "colab": {
      "name": "rede_booleana.ipynb",
      "provenance": [],
      "collapsed_sections": [],
      "toc_visible": true,
      "include_colab_link": true
    },
    "kernelspec": {
      "name": "python3",
      "display_name": "Python 3"
    }
  },
  "cells": [
    {
      "cell_type": "markdown",
      "metadata": {
        "id": "view-in-github",
        "colab_type": "text"
      },
      "source": [
        "<a href=\"https://colab.research.google.com/github/AlexandreSarmento/BooleanNetworkBioME/blob/master/rede_booleana.ipynb\" target=\"_parent\"><img src=\"https://colab.research.google.com/assets/colab-badge.svg\" alt=\"Open In Colab\"/></a>"
      ]
    },
    {
      "cell_type": "markdown",
      "metadata": {
        "id": "ysnWOHifmE2y",
        "colab_type": "text"
      },
      "source": [
        "# Mount your Drive"
      ]
    },
    {
      "cell_type": "code",
      "metadata": {
        "id": "sG3HMg2V-ek2",
        "colab_type": "code",
        "colab": {}
      },
      "source": [
        "from google.colab import drive\n",
        "drive.mount('/content/drive')"
      ],
      "execution_count": null,
      "outputs": []
    },
    {
      "cell_type": "markdown",
      "metadata": {
        "id": "lB542AovmMmO",
        "colab_type": "text"
      },
      "source": [
        "# Restart runtime \n",
        "Just clear variables and not package"
      ]
    },
    {
      "cell_type": "code",
      "metadata": {
        "id": "7JzbrD26mMWg",
        "colab_type": "code",
        "colab": {}
      },
      "source": [
        "exit()"
      ],
      "execution_count": null,
      "outputs": []
    },
    {
      "cell_type": "markdown",
      "metadata": {
        "id": "5oA66MmTmS2Z",
        "colab_type": "text"
      },
      "source": [
        "# Workflow\n",
        "![Schema.png](data:image/png;base64,iVBORw0KGgoAAAANSUhEUgAAANUAAADNCAIAAACgp6IiAAAAAXNSR0IArs4c6QAAAARnQU1BAACxjwv8YQUAAAAJcEhZcwAADsMAAA7DAcdvqGQAAETNSURBVHhe7Z0HcNRHlsZxqN3bvdpLdXV7W3W3e+fa8l7trnfrzmt27bUBY7LBYDAmBxFExhZJGAMmGpscRMbkDAKJLHIOAkwSAozICBA5OuzFH/MN73pnpJE0mkEaab4qt/vf/+7Xr9/7+vXrkRiV+t+ih//8z/9U5b//+78pd+/ePXHixPEeJPw5xo0bp3Z/8JZyggd6FDwvs4F6Au/zEzAF8A72zKhH72tnCkGPwPucT2gW4JXiJ4dXKDB58mQqmzdvNitFKIoi/8B//dd/qfLw4cP4+PjU1NQTJ06cPHny1BNQF2jPFunp6VYBx48ft5ZcoSECj96Z/hzqKagnUwBvkwdqF7xNftAobycH3tceeJs8SEtLY/lUjh071r1792+//RYr2Y6NOBQ5/rmmhIV3795t0aIFjf/zP//jbfXA5/Epo3BnBxjkm2++iYmJuXbtGlYqdH2CRhGNf8K9e/e++uqr1q1bY2tvUxQecOYS+dq2bUskvnPnjrc1AlFE+ceGBl9//fXevXvr1q3LKex98ecIsO99XnnkPYb3uWDIuxxNCrzPuUGdA6R09oqwV6NGjS+//PL+/ftqiUQURf5Z8odlDx48WKtWrZyOmGwbSwj+9Kc/ValShf354MGDyL2CFDn+uZS6evXqvn37atas6RP/AkcIH6hzqJhqcqiESmZ+obVDu3r16u3atevWrVtqj0QUOf7JuOTXxDzSvp07d9apU8cuJbicRvJCQuN3332nxgCgP3JA0BGCMKOxiKLOpGqhlJKhZSHSEK4Zs4VNhx2qVq2KfW7evKmWSESRvn/cvn2b+Pfuu+/a/QPrc+h07969Q4cOX3zxhRoFqKCKyEpPc1VSUtLFixetg6C3Pp6GXiNGjDBm04dZUlNT9WrdunU7duxA/syZM3F8QkJCenr62rVr1RlASpsUUKczAr3PTyYFmleP7pANGzagravVqFGj1ME2oYBNyP+i8S+M8OGfPusiHVTwA9OmTeOCPGbMmFOnTnXzYM2aNTdu3OjRo0fXrl0vXLgwbty4li1bTpgwgQ79+vWLi4sbNGjQBx98MHv27KysLHhMC6f82LFj4+PjeTx69Oivf/3rEydO9O3bF4rPnz8fku3fvx9iMTWNygSmTp0K/yZNmjR48OD69eufPn26U6dOXbp04SpK/+bNm0NKJHfu3PnYsWOvvPJKcnIylGUgE6HJhx9+yFi0YsjixYtph1sIYcYWLVqwqMTERJT56KOPSO/+/d///fjx46iH2qtWraKzEOVf2OHyz3Z/xYoV8QT+xqmXL18uXbo0AQYOtWrVijjRoEGDAQMGfP755wsWLMCdrVu3ho5Dhw6FB5UqVYJG0PfRo0fvvfde7969iW0TJ06EVQ0bNsSLtMDmmJgYzvelS5du3bq1du3aMObQoUPMiw50oIIQRm3bto2e8AyOwnXoRSOMadSoEWpv2bKFqAn/YFLbtm0RDtUYyxBW1L9//zNnzlSvXp1oRzgXp9GWID1v3jyGLF++HGKh5PXr12Hz3bt3WSxbCz3pKaDPO++8E+VfGOET/zhAYSFG10lKnXhTvnz5IUOGEMxwNu3Ej549exJdVq9ejS9xKlET/hHDOnbsCHXowFg4ATXnzJmDUznvoAVT0C0tLa1x48Z0hsdIIPWEVYQ6hkBNoqbUmDFjBo0wfvfu3ZAYUYQxKEt8ateuHbMQ/AiEH3/88cqVKxF45coVqQelDh8+PH78eA7uJk2aMAURGg05cBHCxqBl+vTpbJK5c+dyvYCRtG/evJnhULBZs2YoIDAqyr/wwuUfztMhiFeaNm0aGxv76aef9unTJyMjg9MWNpQpU4agOHnyZE4rOnDsEqI4cxkIRYh/ikCwE2cTsWAAoQUiEud69epFI2NPnjzJQCIQpOHIg5fwAIEMhHxQkBAL75csWUJ4g9C01K1bl2jHKJhHdvjJJ5+gLSEZmShJJKNCCXU4Uhny5ZdfwnvkEMXRnCWQSCAfISgDKZctW4YoNhUsPH/+PEqykYh8aE4HegpR/oUdPvFPEAshAYyh1KvMzEwihCXyyhQp6ayePEJESh6pUKqC7zWK2EMJOHx5xZlIqZavv/5aFYPpI2WQoO2hkhYqupZSoZRwlsNbdWAIWklPqQc0I41SQI0PHjwQQW11gvhHAEastykCEUnxjxY53riiRrmNFJAKLWq0dnukggvN/WpUH5XGM/nbhxwMUYugPpQ+An26AVPAYPRlXg0HmshHmmaxirWDKP/Cjmzjn+sDQewR9BZfqlHuhAFGI2D8oFH9TaZ1M1oAl8Gq+Ohgs+gRqG7S6C/o0UcfH7iLDdAtyr+wQE5SyRFGfsMlwHVJASHJ5tecKAVo8W/MFRKo0qJXEHJyBdG6Zs2a27dv5xIWgKZFHEU6/mFZrqLVq1cnmLku9BAjeCBBDnOjlAU8a1TFOyYPYIjAKEVfGu2EVZ+CA1EC8Q/LcOOJxr9QwkyMI7Est0Ws7JNRhQnM4h67wQH9fYIfUEtIgFhZg7JGjRqcv9x/Qyj/KaPI8c8YQOTA1voY1s5fNwAEB8UngwU5KwHTqe5yKO/wBMH/j4Jh2jzoVrFixdTUVHZplH+hhLyOTTMzMzl/Y2Ji3vKgbNmyb7zxRhkPVClXrhyN+QIDy5cvT+WPf/wjlVdeeQUvvu4BAv/whz/QXqFCBdXVM1s8VqJMGe/Dk0fw8ssva4pXX331zTffREOmCCAnv3jttdckn7liY2O5n0V//yDEcEPgyZMnp0yZ0qNHD6Ig6fbbHlSrVq2qBxzNask7GKtRVapUqV27NkK431SqVKl06dIvvvgiDq5Xrx6NlStX5t5Nu0b5Aznemgc8CvDvN7/5DcOZhfsps6A2j95+oQCSURKbTJo0CftE87+wgCPs4cOHX331VUpKytixY/v06RMfH69fMujevXtXD6ioJe9gSFxcnAYisGfPnsRXKEj8++CDDz7++OOOHTtKMo82Y14glRgO7YhPtHz44YfIofzoo4/UJyRAfwSOHz9+1apVJ06csE9DIxFFkX/kXsqfOILZ3KdPn966dSu2Xr58+dKlS5ctW0aFMjExMSkpiUq+sGLFioULFyYnJzN2wYIFCOnSpUvLli1pQThAOK8E75g8A2noiZBevXo1atSICkKQTLu3RyiAwJUrV3LzPX78eFZWFoaSuSIRRTf+AczKVeDOnTtY+ZwHZ8+ePfME1AMgIyPj4sWLHE/UL1++zCM8vnDhAo3EDB5ppEIsmTBhQq7S8g4kn/dg2rRp7du3p3Lq1CkpDKSAWtBHK8oXkE+JkGvXrt29exf7RC75QJHmn4B9yQj1QZrABSVXEET18zT664TCVQjRz1Wp37t3D/KtW7eOt0zhHVZgMJ2kMdeaNWs4kYniTCdlYIxnBY9BO1djjcoXbHhEM0+IAP4VBDhJFVEQh6mFmNqqVSv9Yl9ooQ9uxAwouGnTJs53fQSjqaEOJXjw4IEqJRkRwD9LB31Au5ydLfRKA1UqbNB+9erV+vXrczKqD7QIICcIiG0mc+/eve3atSME0uIzEQT11vIMHwmRjuIc/xRp5HVj8IEDB7gZ2J3RfRUSINBKJEv4sWPHmjVrxuH7uEdQtCuuKObnrwFCkDlt2LCB05BUTNGIdp2JdkyHBOKcSu0BIiKXhpiYmFu3bik6qgwVtJZIRLHln2KMSKB/ob1s2bL+/fvrtuHp8hhinttSQIhwCPQJcrRw5yUK3rx5E7poxsjlTahQIu4fUGH06NEJCQnGCWIhZfjcbwGVKdxZsrKymjZtSuoZkogbPv2fGooD/xRLLIbZo1W6d++emJgY2kM2CEif69evt2zZMi0tzVpcWPjUY7FHxPPPjWSUPp67ffs2Cd+2bdv0WLiJv+l2//792NjY/fv325bwSQej/Isk4EXjn1oAVMvMzGzbtu3Ro0fhqDxdiH41qinCcQfq0KED92JXZ7uwR/kXSbCoZj7GhRkZGe3btz937pxa8GjhBj9gZ6voxa2IKLh161Yu4573j2FLKCEoJucv4FDDwfpluC+//JIc69q1a9StA3CDzdOHzQ7JjGe9evVau3Ytj2SoFv8Kfas8NRSH+GcMmzFjxm9+85sFCxZ07tyZR7wol+NdhZyiBgh37969AQMGtGnT5rnnnmPblBzmCcWBfwC3cZz9+Mc/xosvvvgijwowRjsqii6FBdsJVjeqzZ49u1SpUs8880zZsmXVQWVJQDHhHxgxYsSzzz6LI7///e/37dvX2xq2f34RBHzyP4GLSIMGDX74wx+i/Pe+973du3fbMV0SEAz/fAxU6JsVd5L2/eM//uNf/dVftWjRYuPGjYFPMXsrHrhscONTYORkhIcPH27atImTdO/evbt27drjAaxKTU3dtm3bvn37qPBqy5YtR44c2blzJ694nD9/fpUqVZ5//vm33npr+/btDKQbA3fs2EGFkp779++XHPoD+lDSwg0GsVQ0ClBRTyRooHoih5I6FfoABko9Wg4cOEBnDQEXL17UisKKfPNP4QTrywFZWVn4/sKFC5cKCfpN0kmTJvXv3//w4cM8cu0IoA9m1S9vZmZmnjlz5vz58yyBkuuLZ32PoaWpzAnZvoWFixcvHjRo0MyZM2fNmjXHA45X6EWFcq4HvF24cOEXX3wxb948slUeaeQtQ6ZNmzZ16lQ10kI36rRbNzpQRybgLUCyR+rcRYsW0ZMkmIH0oTJ9+nRNLZnoxij6aCCz005JO53pQE+E0IdZuBi5NgkTCnT+wkWumZ968HkhgWOX2QcPHjxq1Cgehw8fTv2zzz7TW3/o1bBhwyiHDh1KyZD333//6NGjFheD5h85KC5cv369G1OBe0RYXRJ8oi+N1oHzmkc6qKd/UKddfbzPDmj0b7ffOOSVO69+N1bgFQrQ88MPP6Sk7rOW0CLf/DMrfPPNNyy+ffv29rtMhQsMl8cbhqxvbqbOdl+3bp22u7nNKrlCPbEMMRX2kwCo3QV91I3SPvBTC0AHH3rZK2AMkM56ZLEmR4cS7TbK5vruu+8kXJ8SqI8kqEXzqlQ7QHLTpk3T09NFTWsPOYKMfyhEopOWltasWTPWk0fHhwMyDeaTBUEet6x5iJJjaMmSJbdu3XIHGkHzCEjw1VdfjRw5Un+WTZIRaIqB06dPf/DBBySpnHpq8fl4UpSSPUkS9BvasrBemYZUaFHaR+qmRsHVnDpuun37NooxxJ3OXSxTuKPoj2fJYjVpfk2RdwR5/8DWaIZ16tWr520tPMhGwDVuTvAxpchBKkYIJDs0UazRdU9egE1OnDgRHx+/Zs0ad6zqlMisWbOm8nqyK9JWbiGjR4++evUqltywYcPkyZPv3LlDnUZyWRIDDkEeydXoSXBlgVwmrl+/ruRv1apVtWvX5p5BvsuthSUwNUzlRkI+pzDMeuvXrw/dyZTI/FasWIGeEIvc4+zZs2glg7i7l/Lu3buNGjWiG3OFj3wg3/xDY+1OogU3qTp16lB3t/hThht6UUPGct2fF0yZMoXwQHCyb33MiwT45K15gF85sHr06KFfdxCD3T5c1Jo0aUJFs0DWDh06QIIaNWpwexgwYAB3BdJZtjSOpwKBYAmpakJCgi4rN27c6NixI9xdvXo1bEtMTIyLi9O/Ga1UqRLUfO+994iFhFjoWKtWLWZBAVTieouneNWqVStK6tCaExZNjF4uz1BVfe7du+ezzNAiyPMXneAf+4y9Vej5nwyUr21q9GIs4GqJp+GfxT91kOScQB91o6QnqRL8++ijj4hk6gBcCRiKcKWWpKSkCRMmcFlB7QYNGkAmGHPq1Clu8dCOWMUZnZKSAucg4rFjx7jTwE7CEhGR/kggUhIj6Q//oGPjxo1pbNeuHWtZtmwZKtmX9X7yySfc9Nu0aQPbhgwZAmvLli3LJR3uKr1j56ingIakwmwDNtJT5R9K5xrJTBuyEzKPd955h7ocoPacoA4Wn2wIFUoLYyZH7W7F1Y1uspo1qmLDXTk+9gWSKWXoOX36dMIM7od/NhC4dR8Y3U0BZjly5EjPnj05K9VCHx8J48aNI+ZNmjTp7bffhhN169aFebCN8xTakT4OHDhQX4yu75YkCeN2z8bgeh4TE/Pxxx937twZ4tLI+bhp06bq1auTvBr/iI4EVE556CXXAM7xMWPGxMbGYmSu/zt37iRMckATjKW8OcXq5H/oxvlGILSV+lsjgH2QFuCt4TH/zMGCz6MPiMlcy9Gb/UdUZy/6x7/evXtnZWWx27CUe7fn+OBkceVLRZXWTvZjawaLFi0iQxKHsCAxAE/s27ePx2wTPhvLECOHQbO48gHOgH+4379/XgBRMAKugsHkf8Y/wHQmk2VSJ8tEeSlAdsUQTIS/eYXFMBHmxUqYl5aTJ0/SQgfGHj9+/MqVK8zCuji79U9JPP8q/xwDMRECyRHPnz9PpNyzZw/xD/swERbjLTkiyjBcJTrIPi5LzCzoQKgmJMt9DKEbjXifRw2xf05VEJSyKa3iKuQPwvI//MM/sM9QjvOX3EXt8qvApmzevDkVDhGkkZeQvmAadj/HExudZeMk1s8OI9STfkFlJBDwoQKHCMqQXNMBIXgX8xFrGZ6RkZGcnExqgnsWeL49g4hFQsM5RTrP0cOZxRBScuoMoX7w4EF2P7PjMBJ8XtHognkJSPAPp9r5myvc9VaoUOGf/umfunXrtnLlSvEPx7uJKUYwq4oTeosQORiDsFjJ1KoBfeipgSrVAlSndNVAeY1l2xP/dNERNAQghyF6tN3rilIj5n3//fcxIBVaSACIuz//+c+rVq2adxPZQgKgFGkv+WzXrl3JErAduSoVDhEas8UvfvGLZ5999hkPfv3rX7/66qtmWaA6B0q/fv1IiqlwHOgmRaZIpsJZQCOb/qc//SknOAJhKpyAl9zdSpcurZjavXt3Mh7J7Nu3L7zEx0qfoS9vaeQCyKUBnnGWQUo053JHPgQFX3/9dXIjDiBm52AiipD3sHOYiNONR/QE5jzOu4oVK2IEfcEPxxz6oxsyPYvOBijQp08fhhDs//Vf//W5554r5cFPfvITtpPEMgXEcinignY6UKGPWgwihKhAN3WQ411pRkRxWo3GKtzPKyOB8canIoEabsKJx5zRBA6c+MYbb2hp4IUXXmC9AH+RKgSwDxTCF+4P4rNFKTyKHjo+CEVsRypEWurZArXQ48c//jEDiStwRSs0I2JTUl1WUqVKFTqvXbuWcEW+ArnXrVunK16XLl1wc6dOnSATtzCGQB2SMHIUJCCzWrVqcFTSWAOBltUyBZOmpaUp+8EEo0aNwkBEWcxHJKadRrhINzpDDoIopzmLIv79/ve/h4WYjMTLtGUgDiMJGzx4MJRlu7Mclo8DAGbxLtsPJOaAgw/hr732Gjb553/+Z7RCed0/bAqANcy1AIPzCOPJBQkzpHciDUOMHLSw0sWLF4sZKo2vVIBoqkZgU6gzpnAfgXqqm0peuYp5pD7uw1nBQjh5yKM4QNq3b0+AJ+K89dZbGAdAEs5fTOQ1hx8wI29ZoCTnhFI4if9p/Zo7MHAnRmFuohdJBgyTOXhFKaMT0qiQMv/d3/0d3ehDrNK/eICaEOtXv/oVWcuLL77I4rmFjR8/HkWJkQQnbAqfeEv+K/tylHCiwT+WRDei1+eff06M0d9zg20kA0zNbkMO10Ospo85aCcZIoWfO3cuA3lFqs4j/uYtkHxAO+vi/MWyrj9yhdbLNmD/wF2WjNcJ4TSaMbO1KszGSihAtE5ISCA5Y3+iP2uEvmxOdg77gesCWnEiKZNm9xJXsD9G0GL175hwH/sQgxDIyUPYYOxYSMMOYSAqkdrSkwqjpADQNqBi7vM0Pwb7qlatWviXSWUlOmNGVqol09nt7w91Q0M95oRSOMlbdTZKAEgb5kYz3aR0/zCFKGGPKhx/VIg9rARbUOeGiARycOrwQPsPQyvaYTtKzEdp6QvJH1OQelNHIKZhYzEKg5KSU9EoKuTUjMVSkJ4WhuAYcnyOXfyKwmwAXjEp9ceiPaA/hzicxqmyWh6hTasKiyVmoB784FoqUwAqVpezmU42JHUhThOV2TANGzZEW3JfMlGCKH3YJ8jB36QNrAtuLVu2jGsyqya9huKQCTPiPqnBbYNu8DU9PR17kumyjbkXow8BjCOIvcomIVFGDTfsyelSkrp0Yy14FoFUePTpbPB59AHGZCN5H3JAKdQyA+UdDMGvpGX6kFNKu0BjE2sVW7aPm91HWyowB7saWqOBt1LA1FB/lSZcKrl9rANhg8QU/sFLlFS7+qiSLUyyuiGf3UUY08/fXNBBrrLVwTD9MUFoB8NIQqhzGyNgkJxQJ5yTkBC9OKZJD7gewTk4QajmEkB4o5GIS39JJplBefqz2fALFfJs+tCBs4Kwxx2CfImkiFhLf2CmkFbuYjnfmIv4wkmqFh9TBGaeIff498EHH3ireYZUYWdwLJIlYEq1hxCaglI2yuNq8wKX3yIQU+jzPw4pi4t5nNH1CoGZ2OPyz95SMR+rEepwoyIrwIDc4r/44gsIxFWJMwHekMjCSNgMb0gMiBGEw+3bt7/77rvEaW5XWJ49AzmUPrEQIg3JA8wj7CEBzjGKgwgakcCQvbBAznHSTVI32zk5gbUQMjm16Myj/57PI0LPP5mPki3CLmQ9rkdDhXDIFLKVjPvFP+USQMvMFxirn79BDh6R4M7FI/xQXSyHgrTAIXUjP8Gk1NkPJBhQhD1A2sAr+vBWNocQdEACj9ACaIuqJ9Anr7xFH17RgZMKsXRADgNFPjpkCwlhIn3+TJTJlawBEHr+yVgsDIvs2rWrdu3atBRExWyhWQQs6K2FCPhV8uUVHol/+vmb/Kpu+QVjyUdJy/QZpME1DnZTZLWKIPaIc2oRrF2Prlmsp96qRHl71EI0RBy1xlwB/2rUqEH8E4l9tMo7wnL+AjjBziBxth/yhBxmKSp5tFoe4XpRIP6JfxZFQH4nxVXkWB9//LH9/NcyE2aUC5FJxXWnmAHEG6D95vah7ipjG9IqyJccLc1E+UNi/S1g0Fj4RzKAf2/cuKH24BCu+AfgH6ku568utqGCGVoT6dF1RgFh8s1JTMRtkfOX+4cba12X5wXwj/gH/4gcZG/t27fncsq1lISsXbt2PLZp04YKBm/dunVsbGyTJk24/9JIH6A+pG6MYgjt1NVCmgjUSDcyRSTQrkdexcTE0Ni8eXPNBXgFaGci2pEDn+ip2YE6+KNz585ohQRyTe6/JAksLWj7hyv+AXYGGfHbb79NstyrVy9y25CgT58+/fr1o9K3b189AtVDAoliCiqSDOrXr8+F8cSJE278yy+IdkTQlStXchWAf5UqVdKfsqlWrRr18uXLe/6IzlvcHl566aWf/vSnv/vd77jbVq5cmbc0wtqyZcu++eabPNKNCralQiOXVh6rV69erlw5Ksj8yU9+wi2YnkhQT+qIAvSnZOAbb7zB6UQHJCOBUfQsU6YMFQ3MFujJKJjK3ZmEmCgTIFjmirDEP8CGIHc+evRo//792TQs2PPHf0IJ7KjyZz/7GXZXY8GBV1577TX8LX9g7lq1arHply5dmpGRIf4Ft90JqJmZmZs2bRo5cmTPnj0JY4hVCFQEAtDil7/8Zb169QhLxBhaeEs0UvSijuN5RclA9aFON6IdYQmBegWD1ZMIxyOvAMPpqeiIW3mkkYhoryhNLPWcwJ36s88+W7FihT6Q9y4vKIQr/hn/9CNXhHgs8GfAZLJavoDtKLEaFYZjrH/7t3+D4nobEiANyc2aNcPleCsuLm7ixInbtm27fPmyDmU7mvN1BNOZyymHOMdCYmIid5p58+bNnDlztuffv+F+GA8vFy5cOGPGDBoXL17M27lz51LXP2mjPsfzj9moA4bPmjWLsSr1SEkHNjw9NYpXtNBOBYHqLDk0Llq0SBIkEK2YV2+zBX0QSwpLckXw01YsiucvqdKVK1f279+flJTEsgnXIcHUqVNxz5QpU5BJCbC1912IgExmwRN6xB/r16/nrFGuA/J14sg3WAP+Ub9+/TpREGmnTp1if6anpyckJNStW5dJDx06xAHNHYVGMkWiC6CeLzD87NmzderUQVSaBwih9L4uMFAMzS9evMhe4kYfNPOEMPIPJz30/NoZtsbQIQTWPHLkCIamToWIpfaQQMJd+Zj70qVLpLMFSf4EeYur6P379zkfOBw4Hwk2+BJyYzF94EcHLitUAD7OF5DAcI5R0k3sjxzU9r4LBUxmAZknhJF/AINyVLH1URelQwisgKFlERIdb2sogEBKWVmghSXkK+YB/5Mah+mRyu7du9k2HGT28Ypg/QuIXP1aRBBe/gmYPkyQfFK0EM4imSCnet6hUbAN+lIRg3fu3MktgYRSP7F43O/Jr+KpDmhX5+DmBdhEY4OW8HQQev5lu+AwWUFic/0dikKBhTo9wjASdm5Lo0eP5lRVIyQTz3xgo7J9mxdE4194IebJx927dzeHhRbMoomChiLfgQMHuN5yp7nr/JMI45ZVQnX4gij/nh6KrK0hH3fPrl27fv755zDPNok/z/TK5Tp1cTc4hM8mBdyQPog8/tn6zZ3t2rVTJVRgigBWJlwFeGs4ffo0zBs4cGBmZqZabJQq6J9twCMRzIv8wMBr7tldcIFhQnGIf6Tz3lqYYXSRO90SGJ/OnTtHStC7d2/9k0dBr4LO5/IO6YNNTDGrFEFE+ZdXyIs+BHLJR0mo69OnT8+ePS9duqTT0z4newrME6QSfrUZo/wLL55a/INJ8iWsUgvQ5yYwj4AXHx9/8eJFl2pWFwufGjj6fT5ZLJqI8i+vyDaAQcTbt29/+umnPXr0IOHjkDVqUteZC4x8T42F7IRw/LOHkCPKv3zAKCie3bx5c+jQoR07dvzqq68C3FUL5RwkGD+IhD+fHuVfPiAmca7dv39/7Nix2E5fd2IxTxXxzJ+RT/MI7tev3507d4py5idE+ZdXiD0PHz4cOXIkMS81NZUWGGmHrJyt0o15Lu2eGgUHDhx469Yt41+RJWJx4J9+/htufP3119OmTWvRosU+zzdrGe2AMn0f5gFa7PEp3wYGDx5848aNKP9CD3M8rpV3O2T3HSKKNLnaXd0o3Z5GGs0FdWbNmtWyZctt27bRDRQkjLkTgZBHRCk/bNiwS5cuqR7yKUKI0POP1Zr/BPnM+xBqkGbFxcUxqbhCBqa5II2PGj6ggxxjhFbG5noLUTAvJiYmJSXFlmCVAHeOAGC44H32ILQUuXbtGufvnj17Ll68GFrJwKxKBeE+C8kvIi/+PXryL8BZf2Ji4i9/+cu///u///3vfz9z5kx/QgSmoGznM0qNWHbu3LnNmzdfu3atWqApjbDW+FpAyH/eh9AhKyvrr//6r0uVKvUXf/EXtWvX1hQFZEmuCFp+6PmHKgZvUxgg4dj6Rz/6Ebb+3ve+l56erleyON4NrIC66cZKZ0TpeIWOq1atIs9bsWIFr8S2nDgXRAgME+0MCG/Xrt3zzz+PWebPn4/mgTdhfoF8wftcMDyl+BcqdYFRQfSqUaMGhq5SpQp1O1KFwIHK2KlfeC5XrhxBdPXq1W3btiXySY59hKvORp3AzM4vEIvm3odQYMuWLc888wxR0P11rzABg8gmwSFc/MNDqBXanedCa8Zty5Yt46CZPn262gG0y2NYUmwA1apVg8TEjI4dOxIRXbURZY8u7WgMjoU+owrivJzAFC+//HIDz7fg22eToYJrHBC0HYSwxz/0w80FUdEfhCWzws2bN0uXLv3Q8wczgogiyGnWrBnk+/73v0/529/+1mKe+/MrV3+XMUGwR0MsNoc28hkmTpxILPc++JE+JHCJGLT8sPDPvMK5dszzpymwxZoQgQsB+RkXUvIz6lT69OlDBTBRcnLyhg0b6EaflStX0qhR/lD/Tp06vfDCC2XLlm3YsGHPnj1HjRrFKLRlOHKWL19OnW40uqQvIO7cuYNwpkANJG/duhW1pVWosHDhwsWLF7NG9F+3bl0I7Y/BKaVwWlpaAeNrWPhnfkK5Vq1aYWu4kpSUtGnTJiosgLrZhZIzFDdQ8SxwDY080o1FUqEFOzKEFnzGW6BGSvFMvgR66wIhlLIa3TQ7ddo1BfNSmgTESqCGUId/nMt79uyxdeVxu1s3nwoXnXjPl11LN/GbiujCpLxCAeoq1SjoUaA/0D7UotSunoJabHVALQamRgIzogbdeKSP6aNX0tPGYhn5Eefi4qCDHwjj+YtmHI4M1+EIOGvQVV5UxT2/aOHRfOx/e+CVLVWdVc8V9HSlWd1HQrYCmRTMmTMHc9tC8gtTG1EPHjxgH86aNYu6GoHPYvVoo3KCK6GAQFSATECa+NiH/h06dCjgP4sOPf/MlBxYp0+fJrtyF6abgWtZaR/AlAhUf0nOtmeA4T5e1MeH1ugz0KezYdq0afPnz7969apLlJw6BwDDr1y5wv165syZmtpVQALNnbnK91lFEPoAd0WCeIY0E6iKZuGttderV+/UqVNBb0sQrviHlmQ5+/fvr1OnDiu0rePjb1s8S/J5BTTKpS99XKP4DxF4ZeDRZldFo9xXtKiRR7X71OEfGf3Zs2fdm7W9zTsYfuHChfHjx8NmtWABTW2QTXKKRkwqUHepoxa9AmoUcmoRrEUVlDFzAbePqWotOPfgwYM42tUkXwgX/zDfrVu3yJlQ0dvk2EvGNV+aA3IyusEkuD6jbhbJFu7bnCwV4BBh+IwZM0aPHk04d/kXBJjlpOfPQyxYsMDb5IE0pJR8Y0Dep5PpguABQ8w+7nBZ2LUz4BFIPTrjXHJZHK23QSD0/DPb3bt3b/fu3bVq1WJ5RizqtlrwteeLjn2sjARbtiq2ZuAjAfg8+sOkAdVdb/kb3QXC6TB9+vQRI0YE/j3TvAD+nTlzZtiwYcQ/VmSLArYKNbpaBYbW4orKL1wD+liAV4K/fFrq1q1LLluQr0AN4/2DbbH9yR+ZBWZQVsh6CNp6FAUNbgikG6V9Due+8kFgb5kETOZvR4BKMMOffAauC8OHDyfXKTj/0tPTiX+kgN6mJ0AxC35ajpafK0xt+8l4viCDIMTkmIkssfMxmjrTWLt27R07dhTk+23DxT9sB/927dr13nvvudqjN5di9k3Hjh3JXmEhyZDOPnVzS4SAJUuW6O/VuNArKnCLFGT27Nlq9wczupXOnTsjXPJFaNoRxYUgKyvrcT8PaLGBQN//zNEpVTV1rvDvBsMgMfGP6dTizjJmzJh33323Xbt2DRs2vH37Ni3S0x9IdoVLqy1btpBw+7wyZNsI2Az6K0C2h1XZt28f4UPGUYu/MlWqVNm8eXNRzP8APNu5cydbxGc3YyPu7SjN6Uz9d7/7HWX37t379OkzefJkODFv3ry7d+9y3vXo0WPDhg0VK1bE/VOnTsUWnIOXLl365JNPsBp3An1ijBzqmmLVqlVdu3YdNGjQ9evXe/XqxfKg77Vr15BPO7GHqVeuXHn06FH9Pikupx0jLly4kOttv379eOScNYOKH1OmTFH8k6eDBrtF/POPf4AlYzFWsWjRooSEBHYmLqdOjoVx2DnsNLZ07969cQoGxAhxcXGMYpmTJk3CDiwwOTmZt3PmzEEgouDQxx9/TAuEHjx4MHaYMGECEQshXbp04fT86KOPIO7q1atZMuZlIGZnexw7dozYxmO3bt2WLVsmDc2JQo0aNdCtiJ6/PvwDWFMLYHkNGjQgNEKm5s2bc3BQJ9rHxMTwFpti5QEDBsBCVo6BMjMzW7ZsifPatm1LEKIbQ3DMgQMHKlSogPkgqA5Z7HXkyBEoS8hs0qQJdGncuDH8xkzjxo3jDtGmTZvjx49DssWLFycmJlauXJlXSIiPj9+6dSsJNSXXJkTBPJEPnbl/PAX+MQUWY1LWiBEIhOyiFi1asKnQ/MqVK1AwJSUFFlJB57fffpuAWrVqVTTkSMFWbDYqiFq6dKm+5Wj58uUYhFV/+eWX5EKwFusR8NiE7O3Y2Nj+/ftnZGQQcTELBH3//fcZu3HjxrVr16IkU0BNTGTWcBFh/BP5sOB6z59OhUCcm61bt8aI+g6NRo0asUiOZjYxdqEFIsKMy5cv6w9QQSmC05AhQzAudWhRs2ZNGEOFtwATQ244d+jQIfY9jGcgziMiwj/OUC2nVatWuIEQSADA6GQC+geUzAs1kS9psjjqoWe4+YeqBGNYxaQEY1aBbmxOQu+6des4E3AzusE8Qh0mwoyYjs7YAcPCMO7Ua9askT2xGyViO3XqxBHRvn17AiF7mBb2cFJSEu3ogHzMi0kHDhwI0bEzLuMU4mBFPmcOo4jElsT7UDDy+McCUJc9CkXYc0QpDMdWI8jzCpZgHVZFXOSgZGpsAUaOHIndaSlbtiwsgUmcJtgIjhLAsBH84ODmWMGgHFXly5dPS0sTg1khvsQBSINYTAR3cRXSCKIQEeZxhPXt2zc1NZUNwESwGaKY2oCD6Snwj1XgaZaAVvRkRa+88gqxn/SAcEX8wz4kFZyhcIVQh+YMZGmYjsOUFihLCsFKOV6V3bIc6hgcIXI23N27dy9bTmxGGTzC2rEklEU+jMQ4+rEbNOWRnvgODR8r6iDC+Ae0KQHrAaq7C8PuQG+JT3pFRdbUo4TYKL0SGGWPqmjLUrepuRhhVv2+qviEhlISRlo3gXZksgeewvlrK9KNkmMXrqjFgHqsSFdddEOgGl37mBG0KBoFt0Xd1E7mw+oIusihUWuknc7qLxv6I/L4B1iYVVit1SllTbcCrL/JkTl4xFKii/rQbn1kXFV8zIdiXO5o1L/QtrlsImD+01giaLj5J1O4+pPdimfooFVIGcHtqYp9kkWLGt3+gtFUi5UQtCIj0hB/Ixh8diaIMP5pPTKKGrVmMxzgrc869aielHp0LUuj3qpuFnTliGSM0rxoYkMEHn3MDWyWpxD/pLZrIjqrUY+mjK0CaCG2ZF7ZutRor4BG2Vj1lPHp5vY0awReb+TFP63ZbATcZZuJgdsOfB4lAclUVKd0PaS6T6Mq6g9MplnZM+5xN7cz3Z7O/dc2gM0OVDdVtZEEW4g/3FcaaxKsYrO4DpIO2Ur2byzS/NPPP957770C+qzgkOEoLSK6FveBddajvPXFF1+If+4Zp0peYJ1hj/3813gQWJTtB/Wnkq+pQw5TG6bWrFkTF+uPyQeH0PMP/WSg69evo5z+/qXPkfo0IWUstIDA/tNb3AxHLUJw/g4dOvTEiRNuqpB32Izwjys/13D7wCgvMDUE/82DfJviKQBvSqXq1avjYg46tQeBMMY/+Ldr164GDRoE57PQgl0BZDW46OPRwCB+z5kzZ8SIEVyZ3eMvCDD8yJEjY8aMgX+uDu728IdprusIgII0qg7ytZwCwuZFZ5y7ceNGHO0qky+EkX+kBTt27CD/q1q1aoUKFd7KAbwKKypWrFimTJlKlSpRr1atWrly5ahUrlzZ8zIb0LNs2bL6Q490pmSX/+EPfyAE2u+/BB1soPKZM2fGjRvHRExBiXFQJoAd9Ncrq3j+wiUVSgai5GuvvYZutOtvVSIkwKJCCGZhXkDyx+FG/vfgwYOgN0Do+ce2kHvI/44fP07kaNOmTf369bEdwJcG/5YwAWP9y7/8C+TDebVq1aKC27zv/IBKdKACM7AviImJ6du3b2Ji4oULF3T2Bc0/jMMhvm7duv79+zdv3hxlYB7KaMZsgQK4XApT4nVKlvPGG2/APGkrCYCeGhU+eJz2dr169Tp27EhafPjwYc7foA0SxvjHYXH06NHly5dz3PTu3TuukNCtWzeWwB741a9+1bJlSx5RhmV7X/uhU6dOPTygHh8fr28SnzJlyp49e+ygCdrcDL9z587OnTunTp0Kp1EGTXr16tWlSxfN7o+uXbuiQ+fOnemGbvT/7W9/27hxYyoMR09K+qhOT++wsIEpmA5lRo4cmZSURIixP6cTBMLCP04ZQOXu3bvoRxa4bNkyiAjQ2KCWcGPx4sWURK9FixYRIcaOHTt//nzTJ1skJycvXbqU/pTomZKSsn//foLfw4cPddCozJWF/h1ouXfvHud4amrqhg0bNNGSJUukZLZAcy7Lq1atog+HCUdtQkIC7QzkFaUkAB6BRoUPst7q1au5eRD82JPetQWF0PNPRpeHuHmQHFy+fPn8+fNncwD5UFgBbzIyMqQAuX+zZs3Wrl1Li/e1H7ifnj59mg6XLl1iiCpZWVksxC6eWl2uSXe2BCWDBLgNycyVmZnJtYbSO70f0F/KHzp0qGHDhnidRxgs01HySB9EAeoaFT4wF8BEFy9eJPKxJ3PdhwEQlvjnAleR9GBxykIBLOHWqV/lJSoTfjjs2L4oRoaA7eiDHenGbuFR/AAaDqCdMS9UYHZmRLh3su++Ywr0pB0lVUorzY6zyRehHUrSTWMLBdKWClqhZ0HIB8LOP6GAWhYENjX2UokLSV84qnjEgp6XXmBWb+2pQ3pCLFFTjQCV9Otn9mOGQjRmyPGU+FeIMIbBPHlOn0cOHz585syZNOq3ELShH/crGpCqqMRJ165dOxIAfZmVCOrpUhxQ/PmXLUTB8ePHDxs2TC2FDrFKJeRThdtbixYtOIjdt8UJxf/8BTrOyFoocaF7unEK9+/f//F1/dtvCz3+oQOl9AR79+5t27YtWhW6YuFDCY1/rlNTUlI++ugjhRaXmoUIkoFt27bFxcXpSmS/bWpvVSkGKBH8M88B13mKNHBuz549rVu31m8dFyJ0SqDP+vXruSGxJRQRgc/JW2woWFLiX7YJgEU7vHvq1KnY2Njr168XYqqgX26YP3/+4MGD2TOmnrt/UNWHixGNEnr+AnnX9WVGRkazZs0uX74sf5v7AS3h8DpiNRdQMNYvGlpj4ebNTwEll3+CHXly/7Vr11q1anXixAmxza4slIIxoyBAiA+xOGfRYcqUKSNHjuSRtzwWe/KBks4/N8gJ9+/f59aZmpqqR3UwxrhlcBCDxWmJlbQhQ4bM8XxpgWYsyBQRhJLLP3OwhTcqEIKYBzp16rR9+3ZxRWmZhyfZDFElX1BsM2lcJrp3756cnMw9190Pbp/iihId/8zZrtcFmBcfH798+XKXYTqOCwhRyi62hNvevXtz4XV1EO9LAko0//z5ZLQQA4YOHTp79mwoqOCkV0IBg1NaWtqhQ4cgX1xc3I4dO5hORFesNQQXXyMIJZd/PvHGJZN9ugYbJkyY0Llz57/8y78cP368GoWCkA/e16xZ82c/+1nTpk2PHTumHwYCmxfdUAnosRgjev/wstCfT4o9u3bt+sEPfvDMM8/8/Oc/J1ypm3UOgoUMSU9Pf/bZZyXzrOe792iUKB/OFZvPmXNC8edftgmcnJ0t9IpRqhD8/uZv/ua5556DLqNHj/Z0+f94GVyIevfdd0t58NJLLy1ZsiTXQ1Yd2CraLZYkuFCfAOsqmigp8c8cg58s5mULesqXRos7d+4kJCT88Y9/fOGFFx4+fKjhQR+OpH2c5vXr11+7dq1+9SswbKJs1bZ1RRzzhOLPP/wHk4RNmzZt2bIlJSWFyoYcsHHjxq1bt9KHntRXev4SE6AyaNCgESNGqM/mzZu5tFLRqLxD/5ppjecPLe3du1d/TghR3td+QA3ervP8cSjVUZ51iXARSjtDSYl/kO/27dutWrXSP6JJSkpakQN4hbOXev7lES6nDkVWeaBX6gMdgYbkC1ylEYI0hC9cuFCVAKKYXRW60RnlmzRpcvfu3WzDIcv01iIEJYJ/eIXM78aNG23atPE25Q1EF59kS6eh5ZH+n+DkBfrHKMYVLhkBUgI3wqneunXr69ev263ZRcSFw+LPP1yCp+/du3fkyJFOnTrREpg0Rgsf5lm7KhAxcB6ZK8SVbGnkA/Wk1IysIjU11b51JeI456KknL9Xr14lV2vXrh0uNCblBJd5bmfGGhXUEgQk0BWbqz4+OsTFxZGhZmZmqj3KvyINhY1z586Rtrdt21YhRGVgMFCuVWngUY7Pi5BsYQMlOTD/7K2N4vwlg7x48WKUf5EBPHf58mWSd33LvkCjeVQf8+bkSHWzz0GsmztKVHA/K/FhFS1uT5+3JtOtWN0H7CLWAv9sushFyeWfAA/IwPRTV/iEy4061O22YSkjfXjLAW2vKEVQIEZaZ7XTkxaTqRZ3uPCYbh6orsZsYfzTdBGNkss/+Z5yx44d5cqVgxB4vXbt2itXrnT9KqJ07tyZt8ahLl26uNTxoZFKVRA1bdq0w4cPT5gwgUdJQJ/JkyefOHFizZo1PALNrjp9RFzGWqML8e/ChQtR/kUGsuUfwNM4eMWKFS+//PKhQ4fI6F999dVly5atXbuWVU+fPh1iDRs2DBs1bdr0wYMHXbt2jY+Pv3Xrlu4xgFE9evTo1atXWlra0qVLO3bsuG/fvk8++aRbt27cePbu3ctdoU6dOrt27ZozZw4t+kItpihduvS2bdtISffs2YP8kSNHElMHDhzYoUOH+fPnnz9/Hgn9+/fXJzU+iPIvwpAT/4TExMQhQ4bg7ISEBKgzY8aMFi1aPHr0iM76hfi7d+/Wr1+/d+/eMGPhwoWwkA4MhJ0QaPz48bCkSZMmkI9bDhLGjh0Lpzt16gTzONxh0pEjR5o3bw5TT506dfLkydTUVAIq7BwzZoz6DB8+nLjLLARCuM68cJGWK1euSEkXUf5FGHBqTvzj1YYNG2bPnt2mTRuIAhdnzZrVqlUr2iHHZ599BhVwMy3wiToUTE5ORo5OTOqLFi0idDVr1gx6wVQiHGcrQgiHcA7qjxo16sCBAwzBkiRtcPTo0aNwaPv27ZMmTWrUqBF96A+zpR6iiH9M9P777+/cuVN6uojyL8KQLf+UilGmpKQsX76c4Ddx4sQlS5YQugh1ffv2hT03b96MiYkh4MFOcjiCHETcunUrDJAQTupKlSoR+cjkBg0aBP/S09MbN25MCzLhK3GuSpUqnM5UIBMkjo2NJQoyCuLOmzePvBALM1dWVpb+GTzbgMhHTxoPHjyoiVxE+RdhyCn+0a6KPnAmDumRg1U3YjrgY5U8cs7qckCpFvi3YMEC/VIM3SQBaUBXB+ToFXVAEskrjaVkIt7aj0BUUc7Hq2yTPxDlX4QBKoh/rVu39jb5gT6C9/kJvK1OuwIngFXwieuI2wjczqGFJBOMV69ezRkd5V8EQLHn7Nmz69evV/wjtFhAKiCQ4zJPUBQMFSQfqpnYli1bEnej8S8yILfBP+Kffv9FUeRxTHOAmwXvswNrfyzOQwirWwXQrorI/XhkKGC0o64KqyC5jP78I2IAMzh/k5KSuBboMUyRQxQxooQKpIzEbCoiHFGcS1KUf5EB2IDzbty4gc+4zHpbQweXbaI1/AZqCS10K4J/XLez/flbyKkfbpSI+Af/zp07R/7n/hgttPDJ+UI4hSjlCmzfvj3n76VLl/zjX5R/RQ5y0pUrV5KTk19//fXatWtXqFDh7bfffvznqoJCFQd6pKxYsSIyq1at+uqrr9aoUUN/VSskqF69OsLLly+P/GrVqlGyipSUlMzMzNBedAoFJSL+Aby1Z8+ezz77jMtj3bp18avn71XlA3I/xNIjoK5HKKg/TIXYF154gUZ1DgnE75o1azIFj7GxsUOHDt22bRs7SvwL01n/dFAi8j88dOfOnUOHDs2bN2/QoEHdunWLi4tjXSFBp06dunfvTtm1a1fuN//xH/+BTUMoX6Iokc9E6L9w4cL9+/ffvn3b8j8WGHEnr1BS4h+uunr16sGDB/XTtmXLlj3+u1UhQmJi4pIlS6hQElzhBy16VXAgEyAQtbnCo//hw4cJfl9//XVERz6hpPCPo+rRo0c3b968fPkyd5GzZ89ShgTnz5/P8Px9r9OnT1O2adPm5MmTVLyvCwxUNW0Ri/6sgrUUA/KBksI/oIOY68i33377zTffPP4ZbShAZCUUIRZOUHIQP3jwgEbv6wKDyzvSKNEZUGcv5US+6P23pCNXg4YK2VItyr8ih3Dn5gpFNoUMGsIZc+JZCKcoRETjX4jx1OJf8UCUfyGAm42R/1GGPDjllPBFOqL8CzGi8S9fiPIvxIjyL1+I8i/EiPIvX4jyL8SI8i9fiPIvxIjyL1+I8i/EiPIvX4jyL8SI8i9fiPIvxIjyL18oKfyzD4T9f2e9gLBfQn7w4MGdO3c6dep069atP4X03zeZtG89/06+ePzkTSj+/HN/Sd3qbmNIgMCkpKQf/ehHP/jBD374wx+OGzfO+yJEcDW3ejFASYl/33lA5fHP7UMdPyTwypUrf/u3f1uqVCkoSCDUq4Ij25+8FZsfx5Wg/E8swXMhjx8IlPDY2Njnn3++Vq1aIaS4SzWdv8UJxZ9/UMHYYN/0E/L4oVk2b94M/1JSUhRrQwhbAgh5CluIKBHxTwEvTGmTS2WY8eabb4b28gFczcO0isJCCTp/walTpzIyMo4dO3by5EnqIQEC09PTT3uA2NWrV/P41VdfeV8XGMg8fvz4mTNnkE+Fx7S0NO96Ih/Fn3+KT0QmkqfKlSuPHDly8uTJo0ePHhsijBo1asKECSNGjEAm5bRp04YPHz5+/Hjv6wIDsRMnTpRwKkxXo0YNSyQiHSUl/nEmZmZmdu7cmbpyKcuoLJ3yP9rEXTf3AnQzCcAd5fZXqbd2RntG/NlXWtmVgrod3N88+Sv89FRnGwLwyOXLl62PwHBvLUIgm+jXdQOgOPCPpd6/f5/Dq3379t6mJxD5jBN6dOmiiljic/20bkDUUYu1ux2ouxxy2cZlxXrajLYrgNsI7Tp27Mhabt26Ze2Ri1zZVRz4h9uysrK2b99u39ss0A5Ud2+sMMMe/Qnh0kgcclsE+GTxyc5Kk+ny2OT7dDOZoqZLNWIGF+1r165FOv/Qv0TEP3x55cqVNWvWuN//bCRw2YPv3dSKV48ePaICz8QDOvh43X30Scv8eQksUkJodUCCUROYQGO8QGeNJYqvXbuWI1gqUfqoFEGIi4vz1nJA8eHfypUr7fx1HWbccv1N3d+pxhLjUE6Od9td4W4puLHQ6OgjVtMZWAVrifTvn5RZiv/5iy/xK5cP9/vvRS/Xr67LxTN7K1oI2bocUwKNorNEyb4G99EV4kM1A3IYIuXVYgd6q1atis333+tGGADFIf7hp0uXLnH+6vufAVypVasWyUeLFi30NzbkZmPGrFmz0tPTFy1aJN5QGg+oI1Dk4NGConWwiqTRTT0hEK+GDx9OnYoaKX2uNQiXhNTU1IyMDE3Ho0lDbfjH+RvR/GMhDx486NWrl/c5BxQT/hEtyJliY2PVAmkaNGgg6jx8+DAlJQU3JycnnzhxYrQHpUuXnj59OveVnj170njv3r0hQ4aMHTuWdHDJkiV9+vTRH+c4d+5c//7958yZw22A4dxJFy9ezOE4YsSIGTNm0OfQoUOYeP369VevXp0wYQI9V6xYsXPnzqlTpyJw7ty5n332GW7gPkG3bdu2IZB5kX/48GFm79u374EDB3r37p2UlCS+AnYRFGTg5CdA2qRJk6ZMmcJYyojAtGnTKKtVq6ZF5YRSrVu3JtUgfyKEAPebnfTVTGfOnGGbnj592j70P+kBbiOEHPcgLS1NJTjmwdGjR4948KUHBCGArdn0+zzY9QR4a8eOHdxeAR7aunXrFgd4bpMHcAis8wCqAQIeIFRAiNmzZ+NL3X+JLtDopZde6tixY7du3Tiau3fvTjuxkIA3cODA69evx8TEMBd7j0VRdunSBeFyc82aNdFfQatu3bqsETbozwgSU1lXs2bNWPvnn3++evXqOnXqYIp69eqxChjPXC1btoTf8+bNGzp0KD5AYGJi4jvvvMNApLEQtMK2pAq8YnVIYyz6W1jl/EUTOI31mN2sqlIGjwigPMbRonJCKTb9uHHj2G3jx4+nxHYsnv09ygMex4wZ4/mg/nE3QDfAXveBdqq474ItS6iYOXMmRx7A0MKCBQsWLlwIIYgohBzvt+EtXaqvwQPEGxfwDOByOAcFoQseMiDk008/xXNaFb6sX78+Fc5EglZ8fDynW5MmTZCPy1WH+hMnTiRGQgU6s1hWzVuCqC7FCClbtiwWIJLhe4LZ66+/jjR9yzRqQCBaEILdIBYloxiekJCwf/9+Fsj+ISKyfORgVXYIqvIWcrPtMSkbks1JaHzvvfeQzHDidIcOHVhOtt8/HkGwcB4Ypfjv6ydfdYhjlPfkcXA4EMTUDMFbcFSfNuE2VkRcsbdVqlQh7L377rsQfePGjTQSt7QxOBzhE9wivMEJ+KeERNFo0KBBAwYMaNy4MSGqUaNGlHCFR05tSg59Zhw8eDD0ZaNDX6ZGCLuU0DV//nxCLDRlmzVt2pTt0bx58w0bNhAUsTOXXLaQvvyU/ki4f/++JiWKM6p43D9yRSkxD9hqn8Ky/UlGC5qYMoFBZ0H9cSf8w2d2/wB37961t8SbrKwsYiE+hpq4+caNG3fu3JEEoh0tJHD0ob8eNZAOHKn0xCYKikiAeTdv3rRwRQfm0uWDIciH0+pJCwMpAWcub3lEGR5v375NhUyAnqQ0Ou6ZjlL332w/f1GH4oTH8U+r0mqNfDQKeswJ3k45dwvwKo8ILB9AAjJXwomdvy5Yly4i/vuKgUiGDd5nD9SZdtf96oMEQCLLQECLDdejWwE+ffxhHfQoFnL++n/+pz6u8CIOW1RglGKR7qr8nVT0gf7wj6TQ7r8CoUhWEKUEWly/AlpYtX38Jpj5VIFA4pAeRRRB1pNMs6RJc+2puuS4EgCvbEaiOOkvK/LRs1jicfwTXCfJHC6wrODtESxMmvc5WEgOoI5HiRZcTdyf/8rNBvlepetXHx9rlNSjtEeT5lYYa48GTQHcNZptNZ1NSmfrZpPCP+V/Fok974snHvPPxwRCBC0bEhAtOLPcn/8C2rUiH5IBD3X/f4F6VGfV1Q6MYbyVHB/OwRL1N+tZB9pdkwJTSXVVfGIhV5MVK1aUuPgXocCduJloAf/081+XPUUfaGsK69TmBk0sZ0UiqA+Dixkinn8C5y/3DzyXbYgq+lDCQwXNOX+5/8I/rcXYWSxRHOIf5fXr14kZr7/+Olfgpk2btmzZsnmEAG3RmZ1DpUmTJmj+5ptvwr/Lly9Hz9/IwKNHj86fP79t27ahQ4dyBalSpUrFyEHlypXLlClToUKFSpUqVa9eXT8U3uz5/VOXf8U1ChaT8/f+/fsHDhxYuHBhnz59OnfuTCLYIULw4YcfUn7wwQfozMnbu3fv+fPn79u37/bt224WEeVfEQWOAffu3SMF3L59O6cwF5G5c+fOixDMnj1bJbRLTk5eu3Yt5GMt9uGl4NaLE4pJ/OOoIhEkCzx37tyZM2fS0tL0qzoRgdOnT+tXRVQnl9BP87xr80D8K34sjHj+yU84Rh9ekAsSOb799lvKiABqkzxQsn+I4iwkwOU9yr8oogglovyLojAR5V8UhYko/6IoTET5F0Xh4X//9/8AGMrP6DqLjMQAAAAASUVORK5CYII=)"
      ]
    },
    {
      "cell_type": "markdown",
      "metadata": {
        "id": "tQWqHMaSmlFg",
        "colab_type": "text"
      },
      "source": [
        "# Install Package"
      ]
    },
    {
      "cell_type": "markdown",
      "metadata": {
        "id": "0M-GStKWmoHg",
        "colab_type": "text"
      },
      "source": [
        "## PyBoolNet"
      ]
    },
    {
      "cell_type": "code",
      "metadata": {
        "id": "BcWvuw0CmSnv",
        "colab_type": "code",
        "colab": {}
      },
      "source": [
        "!wget https://github.com/hklarner/PyBoolNet/releases/download/v2.2.8/PyBoolNet-2.2.8_linux64.tar.gz\n",
        "!pip3 install PyBoolNet-2.2.8_linux64.tar.gz\n",
        "\n",
        "!pip install imgaug==0.2.5\n",
        "!pip install networkx==2.2\n",
        "!pip install nose"
      ],
      "execution_count": null,
      "outputs": []
    },
    {
      "cell_type": "markdown",
      "metadata": {
        "id": "1U2QYgoHmvI2",
        "colab_type": "text"
      },
      "source": [
        "## BooleanNet"
      ]
    },
    {
      "cell_type": "code",
      "metadata": {
        "id": "YIuCMvQVmuho",
        "colab_type": "code",
        "colab": {}
      },
      "source": [
        "#!pip3 install /content/booleannet-master.zip\n",
        "!pip3 install git+https://github.com/ialbert/booleannet.git"
      ],
      "execution_count": null,
      "outputs": []
    },
    {
      "cell_type": "markdown",
      "metadata": {
        "id": "McLPm0tTm1eX",
        "colab_type": "text"
      },
      "source": [
        "# Biologic overview and description of the Regulatory Network\n",
        "\n",
        "A rede compreende a interação entre oxigênio, fator de crescimento, eixo do HIF.\n",
        "A rede contém: \n",
        "(1) alça de parada de ciclo celular e apoptose advinda do HIF1-a\n",
        "(2) alça de sobrevivência à apoptose advinda do crosstalk entre HIF2a com mTOR.\n",
        "\n",
        "Concordamos em criar uma rede que abarcasse um módulo de (1) ciclo celular, um módulo de (2) apoptose (via intrínseca), um módulo (3) elo (que liga apoptose e ciclo celular) e por fim, um módulos dos (4) alvos do HIF. \n",
        "\n",
        "Abaixo a quantidade de nós de cada módulo.\n",
        "(1) 9 nós, (2) 15 nós, (3) 10 nós e (4) 4 nós. Ainda sigo trabalhndo na (2).\n",
        "\n",
        "Penso que, agora temos uma rede que podemos refinar tanto para a inferência via dados de wet lab quanto para a rede teórica. Estou desenhando esta rede pensando nos\n",
        "aspectos teóricos de modelos de glioblastoma e carcinoma renal, tal que possamos vislumbrar oportunidade de construir modelos dentro de uma série  de perspectiva que vinhamos conversando.\n",
        "\n",
        "Portanto, abaixo explico a biologia por trás da rede \n",
        "\n",
        "(1) Existe uma regulação do eixo HIF dependente de O2, mas também independente de O2. A regulação dependente de O2, está relacionada ao  supressor de tumor VHL, cujo silenciamento pode deflagrar tumores renais e glioblastomas caracterizados por alta vascularizaçao.\n",
        "\n",
        "(2) O HIF1a deflagra uma resposta aguda, enquanto que o HIF2a deflagra uma resposta crônica.\n",
        "\n",
        "(3) A deprivação de oxigênio em tumores sólidos está associada a deprivação de fatores de crescimento. As evidencias experimentais apontam que existe uma regulação mútua entre o eixo do HIF e PI3K-Akt-mTOR, tal que mTOR pode ativar HIF2a e este último induzir a ubiqutinação dos sítios stc1 e stc2 do mTOR, na ausência de fatores de crescimento.\n",
        "\n",
        "(4) O HIF2a quando ativado por Akt/mTOR suprime p53.\n",
        "\n",
        "(5) A fosfolipases C, quando ativadas, induzema liberação de cálcio pelo retículo endoplasmático, este por sua vez induz a dissociação do complexo CB/p300, de modo que o p300 possa se ligar a p53 ou HIF1a. Não há evidências de que o p300 tenha interação com HIF2a.\n",
        "\n",
        "(6) O mdm2 em hipóxia crônica se dissocia do p53. O motivo são 2: 1) existe uma interação entre HIF1a e p53 dado a competição p300. 2) O Mdm2 pode ativar programas de migração e pode degradar HIF1a (ainda existe uns dados contraditórios).\n",
        "\n",
        "(7) Assim, os alvos do HIF1a ativam p27 e Cdh1 que são supressores de tumor e inibem alça anti apoptóticas. Por outro lado, os alvos do HIF2a ativam alça anti apoptótica e desativam supressores de tumores."
      ]
    },
    {
      "cell_type": "markdown",
      "metadata": {
        "id": "bR_TtNdtm7ie",
        "colab_type": "text"
      },
      "source": [
        "# HIF axis"
      ]
    },
    {
      "cell_type": "markdown",
      "metadata": {
        "id": "DLFLBklNm8tv",
        "colab_type": "text"
      },
      "source": [
        "# Create Network Picture"
      ]
    },
    {
      "cell_type": "code",
      "metadata": {
        "id": "M5WRdzzKm3A-",
        "colab_type": "code",
        "colab": {}
      },
      "source": [
        "import PyBoolNet\n",
        "\n",
        "with open('/content/drive/My Drive/boolean_network_colab/HIF_axis_module_PyBoolNet.bn','r') as file:\n",
        "  bnet = file.read()\n",
        "primes = PyBoolNet.FileExchange.bnet2primes(bnet)\n",
        "PyBoolNet.InteractionGraphs.create_image(primes,\"HIFaxis_graph.png\")"
      ],
      "execution_count": null,
      "outputs": []
    },
    {
      "cell_type": "markdown",
      "metadata": {
        "id": "hIGe6QNgnDEf",
        "colab_type": "text"
      },
      "source": [
        "![HIFaxis_graph.png](data:image/png;base64,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)"
      ]
    },
    {
      "cell_type": "markdown",
      "metadata": {
        "id": "p5SnHXlNnI_n",
        "colab_type": "text"
      },
      "source": [
        "# Supporting Function and Packages Import\n",
        "\n",
        "This supporting function regarding Booleannet package"
      ]
    },
    {
      "cell_type": "code",
      "metadata": {
        "id": "LZHNt_CxnIWl",
        "colab_type": "code",
        "colab": {}
      },
      "source": [
        "import boolean2\n",
        "import numpy as np\n",
        "import matplotlib.pyplot as plt\n",
        "#matplotlib inline\n",
        "import seaborn as sns\n",
        "import networkx as nx\n",
        "from itertools import combinations, product\n",
        "from collections import Counter"
      ],
      "execution_count": null,
      "outputs": []
    },
    {
      "cell_type": "code",
      "metadata": {
        "id": "TMAWkKhjnU3o",
        "colab_type": "code",
        "colab": {}
      },
      "source": [
        "def plot_state_succession(states,state_labels=None,title=None, nodes=None, fontsizex=10):\n",
        "\n",
        "    '''\n",
        "    Creates a plot of the trajectory performed by a BooleanNet model.\n",
        "    \n",
        "    Inputs:\n",
        "    states - container of boolean2 State objects or of dictionaries equivalent to those.\n",
        "    state_labels (optional) - container of strings corresponding to every state. They will be the labels on the Y axis. Default: range(len(states))\n",
        "    title (optional) - the title of the plot\n",
        "    nodes (optional) - the set of nodes to be whose trajectory should be plotted. The set can be a subset or identical set to the nodes in the states. If list the order of the list will be respected on the plot.\n",
        "    fontsizex (optional) - the fontsize of the X axis labels (the node names). Default: 10\n",
        "    \n",
        "    '''\n",
        "    from matplotlib import pyplot as plt\n",
        "    import matplotlib\n",
        "    if nodes==None:\n",
        "        nodes=states[0].keys()\n",
        "    state_transition=[]\n",
        "    for s in states:\n",
        "        state_transition.append([s[k] for k in nodes])\n",
        "    cmap = matplotlib.colors.ListedColormap(['blue', 'orange'])\n",
        "    steps=len(state_transition)\n",
        "    plt.figure(figsize=(len(nodes),steps))\n",
        "    plt.imshow(state_transition, interpolation='none',cmap=cmap)\n",
        "    ax = plt.gca()\n",
        "    plt.xticks(range(len(nodes)),nodes, fontsize=fontsizex)   \n",
        "    if state_labels==None:\n",
        "        plt.yticks(range(steps),fontsize=12)\n",
        "    else:\n",
        "        plt.yticks(range(steps),state_labels,fontsize=12)\n",
        "    if title!=None:\n",
        "        plt.title(title)\n",
        "    ax.set_yticks(np.arange(-.5, steps,1),minor=True)\n",
        "    plt.grid(which='minor', color='black', linestyle='-', linewidth=2)\n",
        "    plt.show()\n",
        "\n",
        "import random\n",
        "def general_async_pick( lines ):\n",
        "    data = [ random.choice( lines )]\n",
        "    #print data\n",
        "    return data   \n",
        "\n",
        "class TransGraph(object):\n",
        "    \"\"\"\n",
        "    Represents a transition graph\n",
        "    \"\"\"\n",
        "    import networkx as nx\n",
        "    def __init__(self, logfile, verbose=False):\n",
        "        self.graph = nx.MultiDiGraph(  )         \n",
        "        self.fp = open( logfile, 'wt')\n",
        "        self.verbose = verbose\n",
        "        self.seen = set()\n",
        "        self.store = dict()\n",
        "        self.colors = dict()\n",
        "\n",
        "    def add(self, states, times=None):\n",
        "        \"Adds states to the transition\"\n",
        "    \n",
        "        # generating the fingerprints and sto\n",
        "        times = times or range(len(states))\n",
        "        fprints = []\n",
        "        for state in states:\n",
        "            if self.verbose:\n",
        "                fp = state.bin()\n",
        "            else:\n",
        "                fp = state.fp()\n",
        "            fprints.append( fp )\n",
        "            self.store[fp] = state\n",
        "\n",
        "        self.fp.write( '*** transitions from %s ***\\n' % fprints[0] )\n",
        "\n",
        "        for head, tail, tstamp in zip(fprints, fprints[1:], times ):\n",
        "            pair = (head, tail)\n",
        "            self.fp.write('T=%s: %s->%s\\n' %  (tstamp, head, tail) ) \n",
        "            if pair not in self.seen:\n",
        "                self.graph.add_edge(head, tail)\n",
        "                self.seen.add(pair)\n",
        "        \n",
        "    def save(self, fname, colormap={}):\n",
        "        \"Saves the graph as gml\"\n",
        "        write_gml(graph=self.graph, fname=fname, colormap=colormap)\n",
        "    \n",
        "        self.fp.write( '*** node values ***\\n' )\n",
        "\n",
        "        # writes the mapping\n",
        "        first = self.store.values()[0]\n",
        "        header = [ 'state' ] + first.keys()\n",
        "        self.fp.write( util.join(header) )\n",
        "        \n",
        "        for fprint, state in sorted( self.store.items() ):\n",
        "            line = [ fprint ]  + map(int, state.values() )\n",
        "            self.fp.write( util.join(line) )\n",
        "            \n",
        "def read_rules_text(model_name):\n",
        "    \"\"\"\n",
        "    A simple file reading function, that reads the BooleanNet rules text files and returns them as a string\n",
        "    \n",
        "    Input: \n",
        "    model_name - str, containing the name of the model, assuming the convention, that the model files are name are named \"model_name\".txt\n",
        "    \n",
        "    Returns:\n",
        "    rules - str, the boolean rules contained in the file\n",
        "    \"\"\"\n",
        "    rules_file='%s.txt'%model_name\n",
        "    with open(rules_file,'r') as f:\n",
        "        rules=f.read()\n",
        "    rules=rules.replace('#BOOLEAN RULES','') #in some cases this line is in the file, but we don't need it\n",
        "    return rules\n",
        "\n",
        "def merge_two_dicts(x, y):\n",
        "    z = x.copy()   # start with x's keys and values\n",
        "    z.update(y)    # modifies z with y's keys and values & returns None\n",
        "    return z\n",
        "\n",
        "def default_shuffler( lines ):\n",
        "    \"Default shuffler\"\n",
        "    temp = lines[:]\n",
        "    random.shuffle( lines )\n",
        "    return temp"
      ],
      "execution_count": null,
      "outputs": []
    },
    {
      "cell_type": "markdown",
      "metadata": {
        "id": "VMK8YUfJntjh",
        "colab_type": "text"
      },
      "source": [
        "# Environmental Input Initial Condition: 0xygen = False, GFs = False"
      ]
    },
    {
      "cell_type": "markdown",
      "metadata": {
        "id": "0y6yNvoNnyLH",
        "colab_type": "text"
      },
      "source": [
        "## Cyclic Attractors Trajectory\n",
        "\n",
        "We expect the model to be roboust enough, such that the cyclic behavior will re-emerge with general asyncronous update, as a complex attractor. The model is instatiated below, together with a plot of the trajectory, to aid the validation for the  asynchronous update scheme."
      ]
    },
    {
      "cell_type": "code",
      "metadata": {
        "id": "L8L7raydnu9n",
        "colab_type": "code",
        "colab": {}
      },
      "source": [
        "model_name='HIFaxis'\n",
        "rules=read_rules_text(model_name)"
      ],
      "execution_count": null,
      "outputs": []
    },
    {
      "cell_type": "markdown",
      "metadata": {
        "id": "3n_mF_SXn5uQ",
        "colab_type": "text"
      },
      "source": [
        "### syncronous"
      ]
    },
    {
      "cell_type": "code",
      "metadata": {
        "id": "foZG0WXYn-S2",
        "colab_type": "code",
        "colab": {}
      },
      "source": [
        "initial_state={'O2':0,'GFs':0,'VHL':0,'HIF1a':0,'HIF2a':0,'p53':0,'REDD1':0,'mTOR':0,'AKT':0, \\\n",
        "               'mdm2':0,'PLC':0,'p300':0,'cMyc':0,'VEGF':0,'BNIP3':0,'TCF3':0}\n",
        "\n",
        "sync_model = boolean2.Model(rules, mode='sync')\n",
        "sync_model.initialize(lambda node: initial_state[node])\n",
        "steps = 50\n",
        "sync_model.iterate(steps)\n",
        "\n",
        "_,cycle_length=sync_model.detect_cycles() #.detect_cycles returns the starting point and the length of a cycle\n",
        "#assert cycle_length == 16\n",
        "cycle_states = sync_model.states[-cycle_length:]\n",
        "\n",
        "plot_state_succession(cycle_states)"
      ],
      "execution_count": null,
      "outputs": []
    },
    {
      "cell_type": "markdown",
      "metadata": {
        "id": "VpuZVtZZoDB2",
        "colab_type": "text"
      },
      "source": [
        "### asyncronous"
      ]
    },
    {
      "cell_type": "code",
      "metadata": {
        "id": "x5K5SP7yoCun",
        "colab_type": "code",
        "colab": {}
      },
      "source": [
        "initial_state={'O2':0,'GFs':0,'VHL':0,'HIF1a':0,'HIF2a':0,'p53':0,'REDD1':0,'mTOR':0,'AKT':0, \\\n",
        "               'mdm2':0,'PLC':0,'p300':0,'cMyc':0,'VEGF':0,'BNIP3':0,'TCF3':0}\n",
        "async_model = boolean2.Model(rules, mode='async')\n",
        "async_model.initialize(lambda node: initial_state[node])\n",
        "steps = 20\n",
        "async_model.iterate(steps, shuffler=general_async_pick)\n",
        "plot_state_succession(async_model.states)"
      ],
      "execution_count": null,
      "outputs": []
    },
    {
      "cell_type": "markdown",
      "metadata": {
        "id": "x4L2DhrzoKb3",
        "colab_type": "text"
      },
      "source": [
        "## State Transition Graph\n",
        "\n",
        "Based on an extended random walk. To see if a complex attractor emerges we sample the STG with a random walk, expecting two things: first the number of unique states visited is much less than the number of steps taken, meaning the random walker is in a complex attractor, second, a set of states in the complex attractor should be very similar (or identical) \n",
        "to the synchronous attractor states, preferably respecting the synchronous order too."
      ]
    },
    {
      "cell_type": "code",
      "metadata": {
        "id": "Kum4qSWToKJT",
        "colab_type": "code",
        "colab": {}
      },
      "source": [
        "nr_of_steps=10000\n",
        "start_state=cycle_states[0]\n",
        "async_model.initialize(lambda node: start_state[node])\n",
        "async_model.iterate(nr_of_steps,shuffler=general_async_pick)\n",
        "\n",
        "TG=TransGraph(logfile='states_00.txt')\n",
        "TG.add(async_model.states)\n",
        "G=TG.graph\n",
        "print(\"Number of unique states visited:\",G.number_of_nodes())\n",
        "print(\"Number of unique transitions:\",G.number_of_edges())"
      ],
      "execution_count": null,
      "outputs": []
    },
    {
      "cell_type": "code",
      "metadata": {
        "id": "emLQlxGOoTK3",
        "colab_type": "code",
        "colab": {}
      },
      "source": [
        "## Calculating some of the metrics discussed above\n",
        "fp_state_dict=dict(zip(async_model.fp(),async_model.states))\n",
        "overlap_to_sync_cycle={}\n",
        "closest_sync_state={}\n",
        "for n in G.nodes:\n",
        "    async_state=fp_state_dict[n]\n",
        "    overlaps=[]\n",
        "    for j in range(len(cycle_states)):\n",
        "        \n",
        "        #async_state=dict(zip(model_async.nodes,top_PR_states[i]))\n",
        "        sync_state=cycle_states[j]\n",
        "        overlap=0\n",
        "        for s in async_state.keys():\n",
        "            if async_state[s] == sync_state[s]:\n",
        "                overlap+=1.\n",
        "        overlap/=len(async_state.keys())\n",
        "        overlaps.append(overlap)\n",
        "        \n",
        "    overlap_to_sync_cycle[n]=max(overlaps)\n",
        "    closest_sync_state[n]=overlaps.index(max(overlaps))\n",
        "\n",
        "fp_states=async_model.fp()\n",
        "state_occurances=Counter(fp_states)\n",
        "edge_occurances=Counter([(fp_states[i-1], fp_states[i]) for i in range(len(fp_states))])"
      ],
      "execution_count": null,
      "outputs": []
    },
    {
      "cell_type": "code",
      "metadata": {
        "id": "YXzutUB0oXfn",
        "colab_type": "code",
        "colab": {}
      },
      "source": [
        "plt.figure(figsize=(20,20))\n",
        "pos = nx.kamada_kawai_layout(G)\n",
        "ec = nx.draw_networkx_edges(G, pos, alpha=0.2,with_labels=False,width=[float(edge_occurances[i])*0.1 for i in G.edges()])\n",
        "lc = lc = nx.draw_networkx_labels(G,pos,{i:closest_sync_state[i] for i in G.nodes()}, font_size=16)\n",
        "nc = nx.draw_networkx_nodes(G, pos, node_color=[overlap_to_sync_cycle[i] for i in G.nodes()], \n",
        "                                with_labels=[closest_sync_state[i] for i in G.nodes()], node_size=[float(state_occurances[j]) for j in G.nodes()], cmap=plt.cm.RdPu, alpha=0.7)\n",
        "plt.colorbar(nc)\n",
        "plt.axis('off')\n",
        "plt.show()"
      ],
      "execution_count": null,
      "outputs": []
    },
    {
      "cell_type": "markdown",
      "metadata": {
        "id": "jushOn2iodaA",
        "colab_type": "text"
      },
      "source": [
        "## Static Attractor\n",
        "\n",
        "Given a syncronous model the function initiates all 2**N initial states, where N is the number of nodes, and performs one step, adding it to a state transition graph (STG). Due to the exponential growth of the state space, with the size of the network, this can be extremely demanding for larger networks. Inputs: model_sync - boolean2 type network model initiated as synchronous, Returns: g - networx graph object."
      ]
    },
    {
      "cell_type": "code",
      "metadata": {
        "id": "dubyYbaYodMP",
        "colab_type": "code",
        "colab": {}
      },
      "source": [
        "def get_sync_STG(model_sync):\n",
        "    '''\n",
        "    Given a syncronous model the function initiates all 2**N initial states, where N is the number of nodes, \n",
        "    and performs one step, adding it to a state transition graph (STG).\n",
        "    WARNING! Due to the exponential growth of the state space, with the size of the network, \n",
        "    this can be extremely demanding for larger networks\n",
        "\n",
        "    Inputs: model_sync - boolean2 type network model initiated as synchronous \n",
        "\n",
        "    Returns: g - networx graph object\n",
        "    '''\n",
        "\n",
        "    fp_state_dict={}\n",
        "    tg=TransGraph(logfile='sync_states.txt')\n",
        "    for init_state, some_func in boolean2.state.all_initial_states(model_sync.nodes): \n",
        "\n",
        "        model_sync.initialize(lambda node: init_state[node])\n",
        "        model_sync.iterate(1)\n",
        "        tg.add(model_sync.states)\n",
        "        fp_state_dict=merge_two_dicts(fp_state_dict,dict(zip(model_sync.fp(),model_sync.states)))\n",
        "    g=tg.graph\n",
        "    g.remove_edges_from(g.selfloop_edges()) \n",
        "    return g,fp_state_dict"
      ],
      "execution_count": null,
      "outputs": []
    },
    {
      "cell_type": "code",
      "metadata": {
        "id": "GhUz2WkGokyO",
        "colab_type": "code",
        "colab": {}
      },
      "source": [
        "sync_model = boolean2.Model(rules, mode='sync')\n",
        "print('State space size:',2**len(sync_model.nodes))"
      ],
      "execution_count": null,
      "outputs": []
    },
    {
      "cell_type": "code",
      "metadata": {
        "id": "Jq3PtjKIomv-",
        "colab_type": "code",
        "colab": {}
      },
      "source": [
        "g,fp_state_dict=get_sync_STG(sync_model)"
      ],
      "execution_count": null,
      "outputs": []
    },
    {
      "cell_type": "code",
      "metadata": {
        "id": "dPD5pNNPopl-",
        "colab_type": "code",
        "colab": {}
      },
      "source": [
        "g.remove_edges_from(g.selfloop_edges()) \n",
        "static_attractors=[]\n",
        "for i in g.nodes():\n",
        "    if g.out_degree(i) == 0:\n",
        "        static_attractors.append(fp_state_dict[i])"
      ],
      "execution_count": null,
      "outputs": []
    },
    {
      "cell_type": "code",
      "metadata": {
        "id": "tZ4GcVX8osS2",
        "colab_type": "code",
        "colab": {}
      },
      "source": [
        "plot_state_succession(static_attractors, state_labels=['Attractor_%d'%i for i in range(len(static_attractors))])"
      ],
      "execution_count": null,
      "outputs": []
    },
    {
      "cell_type": "markdown",
      "metadata": {
        "id": "jxFGrh-Voxuu",
        "colab_type": "text"
      },
      "source": [
        "## Basin\n",
        "\n",
        "Comprises all states which lead to a corresponding attractor. From a wet-lab point of view, the analysis of basins of attraction allows hypothesizing about the underlying decision process in the modeled regulatory system. The larger the basin of attraction is the more the attractor is likely to be biologically meaningful."
      ]
    },
    {
      "cell_type": "markdown",
      "metadata": {
        "id": "AeTFyNTko3Mu",
        "colab_type": "text"
      },
      "source": [
        "## install folder and file unde package issue"
      ]
    },
    {
      "cell_type": "code",
      "metadata": {
        "id": "xBJKtTjYoxfW",
        "colab_type": "code",
        "colab": {}
      },
      "source": [
        "!apt-get install libreadline6:i386\n",
        "!apt-get install libreadline-dev\n",
        "#!mkdir lib\n",
        "#!ln -s /lib/x86_64-linux-gnu/libreadline.so.X ./lib/libreadline.so.6\n",
        "#!export LD_LIBRARY_PATH=\"$LD_LIBRARY_PATH:$PWD/lib/\"\n",
        "!cd /lib/x86_64-linux-gnu ; sudo ln -s libreadline.so.7.0 libreadline.so.6"
      ],
      "execution_count": null,
      "outputs": []
    },
    {
      "cell_type": "markdown",
      "metadata": {
        "id": "XpUPl22nS-wG",
        "colab_type": "text"
      },
      "source": [
        "## Call the prime implicant"
      ]
    },
    {
      "cell_type": "code",
      "metadata": {
        "id": "2EB-hnZI0pmh",
        "colab_type": "code",
        "colab": {}
      },
      "source": [
        "import PyBoolNet\n",
        "\n",
        "with open('/content/drive/My Drive/boolean_network_colab/HIF_axis_module_PyBoolNet.bn','r') as file:\n",
        "  bnet = file.read()\n",
        "\n",
        "primes = PyBoolNet.FileExchange.bnet2primes(bnet)"
      ],
      "execution_count": null,
      "outputs": []
    },
    {
      "cell_type": "markdown",
      "metadata": {
        "id": "zoyZF690T5iW",
        "colab_type": "text"
      },
      "source": [
        "#### basin asyncronous"
      ]
    },
    {
      "cell_type": "markdown",
      "metadata": {
        "id": "dKlV6hO4S3fW",
        "colab_type": "text"
      },
      "source": [
        "##### weak basin"
      ]
    },
    {
      "cell_type": "code",
      "metadata": {
        "id": "rMlAgI4rS1n1",
        "colab_type": "code",
        "colab": {}
      },
      "source": [
        "attrs = PyBoolNet.Attractors.compute_json(primes,\"asynchronous\",FnameJson=\"attrs.json\")\n",
        "state = attrs[\"attractors\"][0][\"state\"][\"str\"]\n",
        "weak = PyBoolNet.Basins.weak_basin(primes, \"asynchronous\", state)\n",
        "for key, value in weak.items():\n",
        "  print(\"{} = {}\".format(key, value))"
      ],
      "execution_count": null,
      "outputs": []
    },
    {
      "cell_type": "markdown",
      "metadata": {
        "id": "AxgVxZDkFoc5",
        "colab_type": "text"
      },
      "source": [
        "##### strong basin"
      ]
    },
    {
      "cell_type": "code",
      "metadata": {
        "id": "fASOfJpkFnWJ",
        "colab_type": "code",
        "colab": {}
      },
      "source": [
        "strong = PyBoolNet.Basins.strong_basin(primes, \"asynchronous\", state)\n",
        "for key,value in strong.items():\n",
        "  print(\"{} = {}\".format(key, value))"
      ],
      "execution_count": null,
      "outputs": []
    },
    {
      "cell_type": "markdown",
      "metadata": {
        "id": "EGCmFHXVFxyB",
        "colab_type": "text"
      },
      "source": [
        "##### cycle free"
      ]
    },
    {
      "cell_type": "code",
      "metadata": {
        "id": "wQHZJ-FnFxLO",
        "colab_type": "code",
        "colab": {}
      },
      "source": [
        "cycfree = PyBoolNet.Basins.cyclefree_basin(primes, \"asynchronous\", state)\n",
        "for key, value in cycfree.items():\n",
        "  print(\"{} = {}\".format(key, value))"
      ],
      "execution_count": null,
      "outputs": []
    },
    {
      "cell_type": "markdown",
      "metadata": {
        "id": "9O71xQXISshz",
        "colab_type": "text"
      },
      "source": [
        "##### generate plots"
      ]
    },
    {
      "cell_type": "code",
      "metadata": {
        "id": "c-lgZx0pLKIJ",
        "colab_type": "code",
        "colab": {}
      },
      "source": [
        "PyBoolNet.Basins.compute_basins(attrs)\n",
        "PyBoolNet.Basins.create_barplot(attrs, \"async_basin_barplot.pdf\")\n",
        "PyBoolNet.Basins.create_piechart(attrs, \"async_basin_piechart.pdf\")"
      ],
      "execution_count": null,
      "outputs": []
    },
    {
      "cell_type": "markdown",
      "metadata": {
        "id": "uc7nyWOdUGhM",
        "colab_type": "text"
      },
      "source": [
        "#### basin syncronous"
      ]
    },
    {
      "cell_type": "markdown",
      "metadata": {
        "id": "qK5u0s1YUNur",
        "colab_type": "text"
      },
      "source": [
        "##### weak basin"
      ]
    },
    {
      "cell_type": "code",
      "metadata": {
        "id": "RZ_nxpLqUF0V",
        "colab_type": "code",
        "colab": {}
      },
      "source": [
        "attrs = PyBoolNet.Attractors.compute_json(primes,\"synchronous\",FnameJson=\"attrs.json\")\n",
        "state = attrs[\"attractors\"][0][\"state\"][\"str\"]\n",
        "weak = PyBoolNet.Basins.weak_basin(primes, \"asynchronous\", state)\n",
        "for key, value in weak.items():\n",
        "  print(\"{} = {}\".format(key, value))"
      ],
      "execution_count": null,
      "outputs": []
    },
    {
      "cell_type": "markdown",
      "metadata": {
        "id": "-uzCbaSaUQuU",
        "colab_type": "text"
      },
      "source": [
        "##### strong basin"
      ]
    },
    {
      "cell_type": "code",
      "metadata": {
        "id": "1d9kj8XAUQO0",
        "colab_type": "code",
        "colab": {}
      },
      "source": [
        "strong = PyBoolNet.Basins.strong_basin(primes, \"synchronous\", state)\n",
        "for key,value in strong.items():\n",
        "  print(\"{} = {}\".format(key, value))"
      ],
      "execution_count": null,
      "outputs": []
    },
    {
      "cell_type": "markdown",
      "metadata": {
        "id": "pzQLNoNeVrTd",
        "colab_type": "text"
      },
      "source": [
        "##### cycle free"
      ]
    },
    {
      "cell_type": "code",
      "metadata": {
        "id": "aHVI7xsoVrA7",
        "colab_type": "code",
        "colab": {}
      },
      "source": [
        "cycfree = PyBoolNet.Basins.cyclefree_basin(primes, \"synchronous\", state)\n",
        "for key, value in cycfree.items():\n",
        "  print(\"{} = {}\".format(key, value))"
      ],
      "execution_count": null,
      "outputs": []
    },
    {
      "cell_type": "markdown",
      "metadata": {
        "id": "BS40Xw3vX3rC",
        "colab_type": "text"
      },
      "source": [
        "##### generate plots"
      ]
    },
    {
      "cell_type": "code",
      "metadata": {
        "id": "sQzD8c-0Xz8z",
        "colab_type": "code",
        "colab": {}
      },
      "source": [
        "PyBoolNet.Basins.compute_basins(attrs)\n",
        "PyBoolNet.Basins.create_barplot(attrs, \"sync_basin_barplot.pdf\")\n",
        "PyBoolNet.Basins.create_piechart(attrs, \"sync_basin_piechart.pdf\")"
      ],
      "execution_count": null,
      "outputs": []
    }
  ]
}