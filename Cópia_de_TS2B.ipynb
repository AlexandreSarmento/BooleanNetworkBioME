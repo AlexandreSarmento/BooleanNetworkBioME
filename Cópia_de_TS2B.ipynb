{
  "nbformat": 4,
  "nbformat_minor": 0,
  "metadata": {
    "colab": {
      "name": "Cópia de TS2B.ipynb",
      "provenance": [],
      "collapsed_sections": [],
      "include_colab_link": true
    },
    "kernelspec": {
      "name": "python2",
      "display_name": "Python 2"
    },
    "language_info": {
      "name": "python"
    }
  },
  "cells": [
    {
      "cell_type": "markdown",
      "metadata": {
        "id": "view-in-github",
        "colab_type": "text"
      },
      "source": [
        "<a href=\"https://colab.research.google.com/github/AlexandreSarmento/BooleanNetworkBioME/blob/master/C%C3%B3pia_de_TS2B.ipynb\" target=\"_parent\"><img src=\"https://colab.research.google.com/assets/colab-badge.svg\" alt=\"Open In Colab\"/></a>"
      ]
    },
    {
      "cell_type": "code",
      "metadata": {
        "id": "PH_Ezi5VM5Nc"
      },
      "source": [
        "!python --version"
      ],
      "execution_count": null,
      "outputs": []
    },
    {
      "cell_type": "code",
      "metadata": {
        "id": "wCCtd7QKNDsD"
      },
      "source": [
        "#!wget http://www.cs.rice.edu/~nakhleh/TS2B.zip   "
      ],
      "execution_count": null,
      "outputs": []
    },
    {
      "cell_type": "code",
      "metadata": {
        "id": "QcxRMCPrNDlQ"
      },
      "source": [
        "#!unzip TS2B.zip"
      ],
      "execution_count": null,
      "outputs": []
    },
    {
      "cell_type": "code",
      "metadata": {
        "id": "BMoQ74rjOl5T"
      },
      "source": [
        "!pip install bitarray"
      ],
      "execution_count": null,
      "outputs": []
    },
    {
      "cell_type": "code",
      "metadata": {
        "id": "LKH3QTqXPG5u"
      },
      "source": [
        "#!pip install booleannet"
      ],
      "execution_count": null,
      "outputs": []
    },
    {
      "cell_type": "code",
      "metadata": {
        "id": "hh5ZPYOUP-ms"
      },
      "source": [
        "!wget http://bonsai.hgc.jp/~mdehoon/software/cluster/Pycluster-1.59.tar.gz"
      ],
      "execution_count": null,
      "outputs": []
    },
    {
      "cell_type": "code",
      "metadata": {
        "id": "KL4VDFMKQCXX"
      },
      "source": [
        "!tar xzvf Pycluster-1.59.tar.gz"
      ],
      "execution_count": null,
      "outputs": []
    },
    {
      "cell_type": "code",
      "metadata": {
        "id": "Ws0n3K_7QMu-"
      },
      "source": [
        "%cd Pycluster-1.59/"
      ],
      "execution_count": null,
      "outputs": []
    },
    {
      "cell_type": "code",
      "metadata": {
        "id": "Q5w6qt_qQ2gH"
      },
      "source": [
        " !python setup.py install"
      ],
      "execution_count": null,
      "outputs": []
    },
    {
      "cell_type": "code",
      "metadata": {
        "id": "etzh0RvTPJL5"
      },
      "source": [
        "!python --version\n",
        "%cd ../"
      ],
      "execution_count": null,
      "outputs": []
    },
    {
      "cell_type": "markdown",
      "metadata": {
        "id": "fF7qeP2YSmqd"
      },
      "source": [
        "# iterative KM in depth based on Stenway et al 2015\n",
        "Here we're just going to binarize. We are adapting a previously developed approach called iterative k-means binarization with a clustering depth (d) of 2 (KM2) or 3 (KM3) for this purpose. This approach was employed because binarized data is able to maintain complex oscillatory behavior in Boolean models constructed from this data, whereas other binarization approaches fail to maintain these features. Once the number of cluster (k) must be greater than the number of experimental measurement (n) k > n. It's well know that k = 2**d,\n",
        "therefore, here concering to the experimental data provided by Mauro's database we set d = 2, so k = 4."
      ]
    },
    {
      "cell_type": "markdown",
      "metadata": {
        "id": "hc7Nl8PGj68k"
      },
      "source": [
        "## download Utils2B"
      ]
    },
    {
      "cell_type": "code",
      "metadata": {
        "id": "qdub8gFDTL2O"
      },
      "source": [
        "from google.colab import files\n",
        "uploaded = files.upload()"
      ],
      "execution_count": null,
      "outputs": []
    },
    {
      "cell_type": "markdown",
      "metadata": {
        "id": "ENC3gDQDkEvV"
      },
      "source": [
        "## download Breast time serie"
      ]
    },
    {
      "cell_type": "code",
      "metadata": {
        "id": "BgbK9yyGj-vE"
      },
      "source": [
        "from google.colab import files\n",
        "uploaded = files.upload()"
      ],
      "execution_count": null,
      "outputs": []
    },
    {
      "cell_type": "code",
      "metadata": {
        "id": "NV1w12CSE-Jo"
      },
      "source": [
        "!mkdir breast_results\n",
        "inputFileName = '/content/breast_raw_data'\n",
        "outputFileName = '/content/breast_results/breast_raw_data'"
      ],
      "execution_count": null,
      "outputs": []
    },
    {
      "cell_type": "markdown",
      "metadata": {
        "id": "227nFEJVkOFV"
      },
      "source": [
        "## download Hepatoma time serie"
      ]
    },
    {
      "cell_type": "code",
      "metadata": {
        "id": "qq7K7pNxkMX-"
      },
      "source": [
        "from google.colab import files\n",
        "uploaded = files.upload()"
      ],
      "execution_count": null,
      "outputs": []
    },
    {
      "cell_type": "code",
      "metadata": {
        "id": "lWvSRZoTFCZW"
      },
      "source": [
        "!mkdir hepatoma_results\n",
        "inputFileName = '/content/hepatoma_raw_data'\n",
        "outputFileName = '/content/hepatoma_results/hepatoma_raw_data'"
      ],
      "execution_count": null,
      "outputs": []
    },
    {
      "cell_type": "markdown",
      "metadata": {
        "id": "nVwzsME3kUHo"
      },
      "source": [
        "## download Glioma time serie"
      ]
    },
    {
      "cell_type": "code",
      "metadata": {
        "id": "hzCAJNGOkNMc"
      },
      "source": [
        "from google.colab import files\n",
        "uploaded = files.upload()"
      ],
      "execution_count": null,
      "outputs": []
    },
    {
      "cell_type": "code",
      "metadata": {
        "id": "OGV1GxvvFG4w"
      },
      "source": [
        "!mkdir glioma_results\n",
        "inputFileName = '/content/glioma_raw_data'\n",
        "outputFileName = '/content/glioma_results/glioma_raw_data'"
      ],
      "execution_count": null,
      "outputs": []
    },
    {
      "cell_type": "code",
      "metadata": {
        "id": "mMBagn_WnCVG"
      },
      "source": [
        "inputFileName"
      ],
      "execution_count": null,
      "outputs": []
    },
    {
      "cell_type": "markdown",
      "metadata": {
        "id": "XtKyH2h1Im5Y"
      },
      "source": [
        "## download Proxy time serie"
      ]
    },
    {
      "cell_type": "code",
      "metadata": {
        "id": "LBW88ofbImcG"
      },
      "source": [
        "from google.colab import files\n",
        "uploaded = files.upload()"
      ],
      "execution_count": null,
      "outputs": []
    },
    {
      "cell_type": "code",
      "metadata": {
        "id": "8hJgsa2WTPCv"
      },
      "source": [
        "!mkdir breast_results\n",
        "inputFileName = '/content/breast_raw_data'\n",
        "outputFileName = '/content/breast_results/breast_raw_data'"
      ],
      "execution_count": null,
      "outputs": []
    },
    {
      "cell_type": "code",
      "metadata": {
        "id": "XR01VBmATVoB"
      },
      "source": [
        "exit()"
      ],
      "execution_count": null,
      "outputs": []
    },
    {
      "cell_type": "code",
      "metadata": {
        "id": "O5ka0Om-SmVQ"
      },
      "source": [
        "# This method of iterative K means binarization was adapted from Berestovsky et al., 2013\n",
        "# Genes (species should be columns and timepoints should be rows in csv format)\n",
        "# Include species names as column labels but no timepoints as row labels \n",
        "# e.g.:\n",
        "#       Sp1 Sp2 Sp3\n",
        "# time1\n",
        "# time2\n",
        "# time3\n",
        "\n",
        "\n",
        "# run by typing 'python KM_Binarization_iterated.py' in ~/NetworkInfFiles-ForManuscript/BinarizationScripts\n",
        "# This was run with Python 2.7.6 and the following additional packages. It is recommend to use pip to install\n",
        "# necessary packages: Pycluster, bitarray, \n",
        "import math, numpy, sys\n",
        "import Pycluster\n",
        "from bitarray import bitarray\n",
        "from utilsS2B import Binarization, KarnaughMaps, BestFit\n",
        "import csv, array\n",
        "\n",
        "originalSeries = {}\t# original series stored here as a list\n",
        "binarySeries = {}\t# structure same as the original but with binary series\n",
        "inputoutput = {}\t# keys are combinations, with a list of compbinations that are outputs of it\n",
        "#fileName = '../Datasets/combinedInterpolatedSamplesNoClinda_natural'\n",
        "#fileName = sys.argv[1]\n",
        "number_of_bin = 100\n",
        "#fileName = '../Datasets/combinedInterpolatedExtrapEquidistantSamplesNoClinda_natural'\n",
        "#!mkdir glioma_results\n",
        "#inputFileName = '/content/glioma_nodes_zhang'\n",
        "#outputFileName = '/content/glioma_results/glioma_zhang_bin_traj'\n",
        "#def decrementalKMeanBinarization(self, orig, clusters, reduction):\n",
        "def decrementalKMeanBinarization(orig, clusters, reduction):    \n",
        "    clusterData = {}\n",
        "    clusterRes = {}\n",
        "    binSeries = {}\n",
        "    if clusters < 2:\n",
        "            return None\n",
        "    while clusters >= 2:\n",
        "            # 'NON' allows you to ignore specific species \n",
        "            for k,v in orig.items():\n",
        "                    if k == \"NON\":\n",
        "                            continue\n",
        "                    data = []\n",
        "                    for i in range(len(v)):\n",
        "                            row = [i,v[i]]\n",
        "                            data.append(row)\n",
        "                    x = numpy.vstack(v)\n",
        "                    clusterData[k] = x\n",
        "\n",
        "                    idx, error, nfound = Pycluster.kcluster(x, nclusters=clusters, method='a', dist='e')\n",
        "                    clusterRes[k] = (idx, error, nfound)\n",
        "\n",
        "            # replace the values with the averages of the clusters\n",
        "            for k,r in clusterRes.items():\n",
        "                    colors = []\n",
        "                    idx, error, nfound = r\n",
        "                    y = clusterData[k]\n",
        "                    x = numpy.arange(len(y))\n",
        "                    sizes = {}\n",
        "                    sums = {}\n",
        "                    for i in range(clusters):\n",
        "                            sizes[i] = 0\n",
        "                            sums[i] = 0\n",
        "                    for i in range(len(idx)):\n",
        "                            sizes[idx[i]] += 1\n",
        "                            sums[idx[i]] += y[i]\n",
        "                    # culculate sums\n",
        "                    for i in sums.keys():\n",
        "                            sums[i] /= sizes[i]\n",
        "                    # replace all the values with sums in the clusters\n",
        "                    averaged = []\n",
        "                    for i in idx:\n",
        "                            averaged.append(sums[i][0])\n",
        "                    orig[k] = averaged\n",
        "\n",
        "            clusters /= 2\n",
        "    # replace data with 0 and 1\n",
        "    for k,v in orig.items():\n",
        "            if k == \"NON\":\n",
        "                    continue\n",
        "            mi = min(v)\n",
        "            binVals = bitarray()\n",
        "            for i in v:\n",
        "                    if i == mi:\n",
        "                            binVals.append(False)\n",
        "                    else:\n",
        "                            binVals.append(True)\n",
        "            binSeries[k] = binVals\n",
        "    # reduce binary series\n",
        "    #print \"Iterative K means Binarization\"\n",
        "    #print binSeries\n",
        "    return binSeries\n",
        "    #if reduction == 0:\n",
        "    #        reduced = self.reduceBinarySeries(binSeries)\n",
        "    #        return reduced\n",
        "    #if reduction == 1:\n",
        "    #        reduced = self.reduceBinaryXOR(binSeries)\n",
        "    #return binSeries\n",
        "\n",
        "counter = 0\n",
        "#while (counter < 1000):\n",
        "while (counter < number_of_bin):\n",
        "    counter += 1\n",
        "    print(str(counter) + \" of 3 binarizations\")\n",
        "    #print(str(counter) + \" of 1000 binarizations\")\n",
        "#def main():\n",
        "    #binarization method (3 = KM3, 2 = KM2, 1 = KM1)\n",
        "    bMethod = 2\n",
        "    #Reduction methods\n",
        "    reduction = 0\n",
        "    #input_file = open('genus_abundanceData_transposed.txt', 'r', newline='')\n",
        "    csvfile = open(inputFileName +'.csv', 'rU') \n",
        "    r = csv.reader(csvfile)\n",
        "    #r = csv.reader(csvfile, dialect='excel-tab')\n",
        "    #f = open(\"genus_abundances_crohnsPlusHMP_NoSampleNames.tsv\", 'r')\n",
        "    topLine = r.next()\n",
        "    order = []\n",
        "    # grabs each species, \n",
        "    for t in topLine:\n",
        "            # creates an empty list for each species\n",
        "            originalSeries[t] = []\n",
        "            order.append(t)\n",
        "    for line in r:\n",
        "            if line[0].startswith(\"#\"):\n",
        "                    continue\n",
        "            words = line\n",
        "            # fills the array for each species with the original data points\n",
        "            for i in range(len(words)):\n",
        "                    originalSeries[order[i]].append(float(words[i]))\n",
        "    allConvergence = []\n",
        "    allTimes = []\n",
        "    # determines cluster depth (d). Number of clusters, k = 2^d \n",
        "    if bMethod > 0:\n",
        "        clusters = int(math.pow(2,bMethod))\n",
        "        binarySeries = decrementalKMeanBinarization(dict(originalSeries), clusters, reduction)\n",
        "    for i in binarySeries:\n",
        "        sampleSize2= len(binarySeries[i])\n",
        "    # write binarized data to file\n",
        "    f = open(outputFileName + str(counter) + '.csv', \"wb\")\n",
        "    for item in binarySeries:\n",
        "        f.write(str(item))\n",
        "        #print (item + ',')\n",
        "        #sampleList = list(binarySeries[item])\n",
        "        values = str(binarySeries[item])\n",
        "        values  = values.rstrip(')')\n",
        "        values = values.rsplit('bitarray(')\n",
        "        values = values[1]\n",
        "        values = values.lstrip('\\'')\n",
        "        values = values.rstrip('\\'')\n",
        "        valueList = list(values)\n",
        "        #tmp[1]\n",
        "        for sample in valueList:\n",
        "            f.write(\",\" + str(sample))\n",
        "        #print(str(valueList)+',')\n",
        "        f.write(\"\\n\")\n",
        "\n",
        "    # Close opened file\n",
        "    f.close() \n",
        "    \n",
        "#with open('mycsvfile.csv', 'w') as f:  # Just use 'w' mode in 3.x\n",
        "#    w = csv.DictWriter(f, dict2.keys())\n",
        "#    for item in dict:\n",
        "#        w.writer(item)\n",
        "    #print \"sample size: \" + str(sampleSize2)\n",
        "    #print \"binarization completed\""
      ],
      "execution_count": null,
      "outputs": []
    },
    {
      "cell_type": "markdown",
      "metadata": {
        "id": "3O-CNF-qI26W"
      },
      "source": [
        "# to create zip folder\n",
        "### aqui você cria uma pasta zip para retirar os arquivos do ambient colab para o usuário do computador"
      ]
    },
    {
      "cell_type": "code",
      "metadata": {
        "id": "bBebMOMdPHfU"
      },
      "source": [
        "import shutil"
      ],
      "execution_count": null,
      "outputs": []
    },
    {
      "cell_type": "code",
      "metadata": {
        "id": "fLPjGnA_qvKc"
      },
      "source": [
        "shutil.make_archive('/content/glioma_results', 'zip', '/content/glioma_results')"
      ],
      "execution_count": null,
      "outputs": []
    },
    {
      "cell_type": "code",
      "metadata": {
        "id": "oVjNrPBgddHc"
      },
      "source": [
        "shutil.make_archive('/content/hepatoma_results', 'zip', '/content/hepatoma_results')"
      ],
      "execution_count": null,
      "outputs": []
    },
    {
      "cell_type": "code",
      "metadata": {
        "id": "9WGwmtdpddpz"
      },
      "source": [
        "shutil.make_archive('/content/breast_results', 'zip', '/content/breast_results')"
      ],
      "execution_count": null,
      "outputs": []
    },
    {
      "cell_type": "code",
      "metadata": {
        "id": "KEZkL6DhPARd"
      },
      "source": [
        "shutil.make_archive('/content/proxy_results_05_1', 'zip', '/content/proxy_results_05_1')"
      ],
      "execution_count": null,
      "outputs": []
    },
    {
      "cell_type": "code",
      "metadata": {
        "id": "Q65B7U5qDhll"
      },
      "source": [
        "shutil.rmtree('/content/hepatoma_results', ignore_errors=True)"
      ],
      "execution_count": null,
      "outputs": []
    },
    {
      "cell_type": "code",
      "metadata": {
        "id": "QKs_hQsZyGTj"
      },
      "source": [
        "# to remove folder such in case\n",
        "shutil.rmtree('/content/glioma_results', ignore_errors=True)"
      ],
      "execution_count": null,
      "outputs": []
    },
    {
      "cell_type": "code",
      "metadata": {
        "id": "KK_wsKQxPPmb"
      },
      "source": [
        "shutil.rmtree('/content/breast_results', ignore_errors=True)"
      ],
      "execution_count": null,
      "outputs": []
    },
    {
      "cell_type": "code",
      "metadata": {
        "id": "oeViPpK4gVF8"
      },
      "source": [
        "shutil.rmtree('/content/proxy_results_05_1', ignore_errors=True)"
      ],
      "execution_count": null,
      "outputs": []
    },
    {
      "cell_type": "markdown",
      "metadata": {
        "id": "DscINwFdnkfH"
      },
      "source": [
        "# BREAST: KM2-BESTFIT\n"
      ]
    },
    {
      "cell_type": "code",
      "metadata": {
        "id": "WQw9tbpMwrZh"
      },
      "source": [
        "from google.colab import files\n",
        "uploaded = files.upload()"
      ],
      "execution_count": null,
      "outputs": []
    },
    {
      "cell_type": "code",
      "metadata": {
        "id": "RwwSoXF2wxfo"
      },
      "source": [
        "!python BooleanModeling2post/BinInfer.py input=MDAMB231_2.txt bin-method=2 learn-method=BESTFIT maxscore=0.0 solutions=100 "
      ],
      "execution_count": null,
      "outputs": []
    },
    {
      "cell_type": "markdown",
      "metadata": {
        "id": "4iqIX_57nsMN"
      },
      "source": [
        "# HepG2: KM2-BESTFIT"
      ]
    },
    {
      "cell_type": "code",
      "metadata": {
        "id": "rPmNeij7Ns5x"
      },
      "source": [
        "from google.colab import files\n",
        "uploaded = files.upload()"
      ],
      "execution_count": null,
      "outputs": []
    },
    {
      "cell_type": "code",
      "metadata": {
        "id": "NXXbg0VzNxPy"
      },
      "source": [
        "!python BooleanModeling2post/BinInfer.py input=HEPG2_1.txt bin-method=2 learn-method=BESTFIT maxscore=0.0 solutions=3"
      ],
      "execution_count": null,
      "outputs": []
    },
    {
      "cell_type": "markdown",
      "metadata": {
        "id": "Qc06BfvVny9V"
      },
      "source": [
        "# U87: KM2-BESTFIT"
      ]
    },
    {
      "cell_type": "code",
      "metadata": {
        "id": "_Au0m5L2PNgg"
      },
      "source": [
        "from google.colab import files\n",
        "uploaded = files.upload()"
      ],
      "execution_count": null,
      "outputs": []
    },
    {
      "cell_type": "code",
      "metadata": {
        "id": "lunT0J5ZPPvp"
      },
      "source": [
        "!python BooleanModeling2post/BinInfer.py input=U87_1.txt bin-method=2 learn-method=BESTFIT maxscore=0.0 solutions=1"
      ],
      "execution_count": null,
      "outputs": []
    },
    {
      "cell_type": "markdown",
      "metadata": {
        "id": "LpG-VC8pn54o"
      },
      "source": [
        "# Breast: BASC-BESTFIT"
      ]
    },
    {
      "cell_type": "code",
      "metadata": {
        "id": "xs6s-Mgk5W8P"
      },
      "source": [
        "from google.colab import files\n",
        "uploaded = files.upload()"
      ],
      "execution_count": null,
      "outputs": []
    },
    {
      "cell_type": "code",
      "metadata": {
        "id": "Aq6Ul27D5f3V"
      },
      "source": [
        "!python BooleanModeling2post/BinInfer.py input=MDAMB231_1.txt bin-method=A learn-method=BESTFIT maxscore=0.0 solutions=1"
      ],
      "execution_count": null,
      "outputs": []
    },
    {
      "cell_type": "markdown",
      "metadata": {
        "id": "Oz8hiolfoDb_"
      },
      "source": [
        "# HepG2:BASC-BESTFIT"
      ]
    },
    {
      "cell_type": "code",
      "metadata": {
        "id": "EBPn-Y5j52tz"
      },
      "source": [
        "from google.colab import files\n",
        "uploaded = files.upload()"
      ],
      "execution_count": null,
      "outputs": []
    },
    {
      "cell_type": "code",
      "metadata": {
        "id": "f6aLfik559lT"
      },
      "source": [
        "!python BooleanModeling2post/BinInfer.py input=HEPG2_1.txt bin-method=A learn-method=BESTFIT maxscore=0.0 solutions=1"
      ],
      "execution_count": null,
      "outputs": []
    },
    {
      "cell_type": "markdown",
      "metadata": {
        "id": "vUaaJJcpoNdw"
      },
      "source": [
        "# U87: BASC-BESTFIT"
      ]
    },
    {
      "cell_type": "code",
      "metadata": {
        "id": "TipVXr-8oRpg"
      },
      "source": [
        "from google.colab import files\n",
        "uploaded = files.upload()"
      ],
      "execution_count": null,
      "outputs": []
    },
    {
      "cell_type": "code",
      "metadata": {
        "id": "mPPDqylzoSR3"
      },
      "source": [
        "!python BooleanModeling2post/BinInfer.py input=U87_1.txt bin-method=A learn-method=BESTFIT maxscore=0.0 solutions=1"
      ],
      "execution_count": null,
      "outputs": []
    }
  ]
}